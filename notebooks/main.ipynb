{
 "cells": [
  {
   "cell_type": "code",
   "execution_count": 28,
   "metadata": {},
   "outputs": [],
   "source": [
    "import os \n",
    "import pandas as pd \n",
    "import numpy as np \n",
    "import matplotlib.pyplot as plt \n",
    "import xgboost as xgb\n",
    "\n",
    "from sklearn.preprocessing import StandardScaler\n",
    "from sklearn.model_selection import cross_val_score, GridSearchCV\n",
    "from sklearn.metrics import f1_score, accuracy_score\n",
    "from sklearn.ensemble import RandomForestClassifier\n",
    "from sklearn.svm import SVC"
   ]
  },
  {
   "cell_type": "markdown",
   "metadata": {},
   "source": [
    "### Introduction "
   ]
  },
  {
   "cell_type": "markdown",
   "metadata": {},
   "source": [
    "Dans ce notebook, vous pouvez retrouver l'étude complète qui nous a permis à partir des données preprocessées de choisir un modèle, le tester et mesurer ses performances. \n",
    "Ainsi, l'étude se déroule en XX étapes: \n",
    "1) La lecture des données préparées & train-test split\n",
    "2) Feature scaling\n",
    "3) Comparaison des modèles\n",
    "4) Optimisation des paramètres - CV\n",
    "5) Evaluation finale sur le test set. "
   ]
  },
  {
   "cell_type": "markdown",
   "metadata": {},
   "source": [
    "### 1. Lecture des données préparées "
   ]
  },
  {
   "cell_type": "markdown",
   "metadata": {},
   "source": [
    "Pour commencer, nous récupérons les fichiers préparés qui sont dans le folder \"../data/prepared_final\". Ce dossier contient les données préparées pour les données d'entraînements et les données que nous devrons soumettre plus tard. Par la même coccasion, nous récupérons les labels que nous utiliserons plus tard."
   ]
  },
  {
   "cell_type": "code",
   "execution_count": 2,
   "metadata": {},
   "outputs": [],
   "source": [
    "# folder containing prepared_data\n",
    "folder_name = \"prepared_final\"\n",
    "\n",
    "# list prepared files\n",
    "cwd = os.getcwd()\n",
    "data_dir = os.path.join(cwd, '..', 'data')\n",
    "prepared_data_dir = os.path.join(data_dir, folder_name)\n",
    "files = os.listdir(prepared_data_dir)\n",
    "\n",
    "# separate training files from submission files\n",
    "submission_files = [file for file in files if 'test' in file]\n",
    "train_files = list(set(files) - set(submission_files))\n",
    "\n",
    "# get labels\n",
    "label_file = os.path.join(data_dir, 'targets_train.csv')\n"
   ]
  },
  {
   "cell_type": "markdown",
   "metadata": {},
   "source": [
    "Ensuite, nous isolons directement un test set (pour un test final). Plus tôt cela est fait, plus les chances d'introduire un biais et faible. Notre test set sera utilisé comme des données que nous n'aurions jamais vu à la fin.\n",
    "Précisément, ici nous gardons 2 fichiers comme données tests finals."
   ]
  },
  {
   "cell_type": "code",
   "execution_count": 3,
   "metadata": {},
   "outputs": [
    {
     "name": "stdout",
     "output_type": "stream",
     "text": [
      "train files:  ['prepared_4.csv', 'prepared_3.csv', 'prepared_2.csv', 'prepared_5.csv', 'prepared_1.csv']\n",
      "test files:  ['prepared_0.csv', 'prepared_6.csv']\n"
     ]
    }
   ],
   "source": [
    "# train-test split\n",
    "trainfiles = train_files[:-2]\n",
    "testfiles = train_files[-2:]\n",
    "\n",
    "print(\"train files: \", trainfiles)\n",
    "print(\"test files: \", testfiles)"
   ]
  },
  {
   "cell_type": "markdown",
   "metadata": {},
   "source": [
    "Nous allons maintenant convertir tout ceci en un dataframe et ajouter les labels."
   ]
  },
  {
   "cell_type": "code",
   "execution_count": 4,
   "metadata": {},
   "outputs": [],
   "source": [
    "# list of train and test dataframes\n",
    "train_dataframes = []\n",
    "test_dataframes = []\n",
    "\n",
    "# create train dataframes corresponding to each file\n",
    "for file in trainfiles:\n",
    "    file_path = os.path.join(prepared_data_dir, file)\n",
    "    train_dataframes.append(pd.read_csv(file_path, index_col=\"identifier\"))\n",
    "\n",
    "# create test dataframes corresponding to each file\n",
    "for file in testfiles:\n",
    "    file_path = os.path.join(prepared_data_dir, file)\n",
    "    test_dataframes.append(pd.read_csv(file_path, index_col=\"identifier\"))\n",
    "\n",
    "# now group dataframes together\n",
    "df_train = pd.concat(train_dataframes, ignore_index=False)\n",
    "df_test = pd.concat(test_dataframes, ignore_index=False)\n",
    "\n",
    "# finally, add labels\n",
    "target = pd.read_csv(label_file, index_col='identifier')\n",
    "df_train = df_train.join(target['target'], how='left')\n",
    "df_test = df_test.join(target['target'], how='left')"
   ]
  },
  {
   "cell_type": "code",
   "execution_count": 5,
   "metadata": {},
   "outputs": [
    {
     "name": "stdout",
     "output_type": "stream",
     "text": [
      "Train dataframe: \n"
     ]
    },
    {
     "data": {
      "text/html": [
       "<div>\n",
       "<style scoped>\n",
       "    .dataframe tbody tr th:only-of-type {\n",
       "        vertical-align: middle;\n",
       "    }\n",
       "\n",
       "    .dataframe tbody tr th {\n",
       "        vertical-align: top;\n",
       "    }\n",
       "\n",
       "    .dataframe thead th {\n",
       "        text-align: right;\n",
       "    }\n",
       "</style>\n",
       "<table border=\"1\" class=\"dataframe\">\n",
       "  <thead>\n",
       "    <tr style=\"text-align: right;\">\n",
       "      <th></th>\n",
       "      <th>SEF90_First_EEG</th>\n",
       "      <th>SEF95_First_EEG</th>\n",
       "      <th>SEF50_First_EEG</th>\n",
       "      <th>SP_First_EEG</th>\n",
       "      <th>SM1_First_EEG</th>\n",
       "      <th>SM2_First_EEG</th>\n",
       "      <th>SM3_First_EEG</th>\n",
       "      <th>SM4_First_EEG</th>\n",
       "      <th>Spectrale_entropy_First_EEG</th>\n",
       "      <th>Delta_absolute_First_EEG</th>\n",
       "      <th>...</th>\n",
       "      <th>Band_ratio_1_Z_axis</th>\n",
       "      <th>Band_ratio_2_Z_axis</th>\n",
       "      <th>Band_ratio_3_Z_axis</th>\n",
       "      <th>Band_ratio_4_Z_axis</th>\n",
       "      <th>Hjort_activity_Z_axis</th>\n",
       "      <th>Hjort_mobility_Z_axis</th>\n",
       "      <th>Hjort_complexity_Z_axis</th>\n",
       "      <th>75Percentile_Z_axis</th>\n",
       "      <th>Zero_crossing_rate_Z_axis</th>\n",
       "      <th>target</th>\n",
       "    </tr>\n",
       "    <tr>\n",
       "      <th>identifier</th>\n",
       "      <th></th>\n",
       "      <th></th>\n",
       "      <th></th>\n",
       "      <th></th>\n",
       "      <th></th>\n",
       "      <th></th>\n",
       "      <th></th>\n",
       "      <th></th>\n",
       "      <th></th>\n",
       "      <th></th>\n",
       "      <th></th>\n",
       "      <th></th>\n",
       "      <th></th>\n",
       "      <th></th>\n",
       "      <th></th>\n",
       "      <th></th>\n",
       "      <th></th>\n",
       "      <th></th>\n",
       "      <th></th>\n",
       "      <th></th>\n",
       "      <th></th>\n",
       "    </tr>\n",
       "  </thead>\n",
       "  <tbody>\n",
       "    <tr>\n",
       "      <th>10000.0</th>\n",
       "      <td>3.100000</td>\n",
       "      <td>5.800000</td>\n",
       "      <td>1.166667</td>\n",
       "      <td>0.0</td>\n",
       "      <td>1.695175e+09</td>\n",
       "      <td>2.638510e+20</td>\n",
       "      <td>6.809406e+31</td>\n",
       "      <td>2.091899e+43</td>\n",
       "      <td>6.262214</td>\n",
       "      <td>1.360318e+11</td>\n",
       "      <td>...</td>\n",
       "      <td>230.828713</td>\n",
       "      <td>4.152119e-03</td>\n",
       "      <td>0.0</td>\n",
       "      <td>0.958428</td>\n",
       "      <td>0.057418</td>\n",
       "      <td>0.024455</td>\n",
       "      <td>1.362229</td>\n",
       "      <td>0.067440</td>\n",
       "      <td>0.057544</td>\n",
       "      <td>0.0</td>\n",
       "    </tr>\n",
       "    <tr>\n",
       "      <th>10001.0</th>\n",
       "      <td>4.300000</td>\n",
       "      <td>5.533333</td>\n",
       "      <td>1.433333</td>\n",
       "      <td>0.0</td>\n",
       "      <td>4.318862e+05</td>\n",
       "      <td>1.187559e+13</td>\n",
       "      <td>5.215906e+20</td>\n",
       "      <td>2.771896e+28</td>\n",
       "      <td>6.612633</td>\n",
       "      <td>4.054678e+07</td>\n",
       "      <td>...</td>\n",
       "      <td>976.473575</td>\n",
       "      <td>9.853351e-04</td>\n",
       "      <td>0.0</td>\n",
       "      <td>0.962154</td>\n",
       "      <td>0.020269</td>\n",
       "      <td>0.031833</td>\n",
       "      <td>1.352479</td>\n",
       "      <td>0.078533</td>\n",
       "      <td>0.020283</td>\n",
       "      <td>0.0</td>\n",
       "    </tr>\n",
       "    <tr>\n",
       "      <th>10002.0</th>\n",
       "      <td>4.966667</td>\n",
       "      <td>5.933333</td>\n",
       "      <td>2.233333</td>\n",
       "      <td>0.0</td>\n",
       "      <td>8.534241e+04</td>\n",
       "      <td>3.107811e+11</td>\n",
       "      <td>1.675904e+18</td>\n",
       "      <td>1.059260e+25</td>\n",
       "      <td>7.031513</td>\n",
       "      <td>8.109419e+06</td>\n",
       "      <td>...</td>\n",
       "      <td>1232.253627</td>\n",
       "      <td>7.709552e-04</td>\n",
       "      <td>0.0</td>\n",
       "      <td>0.950012</td>\n",
       "      <td>0.012949</td>\n",
       "      <td>0.033339</td>\n",
       "      <td>1.188277</td>\n",
       "      <td>0.057350</td>\n",
       "      <td>0.012978</td>\n",
       "      <td>0.0</td>\n",
       "    </tr>\n",
       "    <tr>\n",
       "      <th>10003.0</th>\n",
       "      <td>3.566667</td>\n",
       "      <td>4.600000</td>\n",
       "      <td>1.866667</td>\n",
       "      <td>0.0</td>\n",
       "      <td>2.230754e+06</td>\n",
       "      <td>2.059409e+14</td>\n",
       "      <td>2.395959e+22</td>\n",
       "      <td>3.056785e+30</td>\n",
       "      <td>6.934269</td>\n",
       "      <td>2.573352e+08</td>\n",
       "      <td>...</td>\n",
       "      <td>466947.123980</td>\n",
       "      <td>1.715853e-07</td>\n",
       "      <td>0.0</td>\n",
       "      <td>0.080121</td>\n",
       "      <td>0.001249</td>\n",
       "      <td>0.037619</td>\n",
       "      <td>1.108619</td>\n",
       "      <td>0.009236</td>\n",
       "      <td>0.001253</td>\n",
       "      <td>0.0</td>\n",
       "    </tr>\n",
       "    <tr>\n",
       "      <th>10004.0</th>\n",
       "      <td>2.300000</td>\n",
       "      <td>5.000000</td>\n",
       "      <td>0.733333</td>\n",
       "      <td>0.0</td>\n",
       "      <td>1.558588e+06</td>\n",
       "      <td>1.702691e+14</td>\n",
       "      <td>2.495270e+22</td>\n",
       "      <td>4.050082e+30</td>\n",
       "      <td>6.395352</td>\n",
       "      <td>1.091540e+08</td>\n",
       "      <td>...</td>\n",
       "      <td>1653.019877</td>\n",
       "      <td>5.566716e-04</td>\n",
       "      <td>0.0</td>\n",
       "      <td>0.920189</td>\n",
       "      <td>0.027072</td>\n",
       "      <td>0.024418</td>\n",
       "      <td>1.371279</td>\n",
       "      <td>0.036518</td>\n",
       "      <td>0.027271</td>\n",
       "      <td>0.0</td>\n",
       "    </tr>\n",
       "  </tbody>\n",
       "</table>\n",
       "<p>5 rows × 233 columns</p>\n",
       "</div>"
      ],
      "text/plain": [
       "            SEF90_First_EEG  SEF95_First_EEG  SEF50_First_EEG  SP_First_EEG  \\\n",
       "identifier                                                                    \n",
       "10000.0            3.100000         5.800000         1.166667           0.0   \n",
       "10001.0            4.300000         5.533333         1.433333           0.0   \n",
       "10002.0            4.966667         5.933333         2.233333           0.0   \n",
       "10003.0            3.566667         4.600000         1.866667           0.0   \n",
       "10004.0            2.300000         5.000000         0.733333           0.0   \n",
       "\n",
       "            SM1_First_EEG  SM2_First_EEG  SM3_First_EEG  SM4_First_EEG  \\\n",
       "identifier                                                               \n",
       "10000.0      1.695175e+09   2.638510e+20   6.809406e+31   2.091899e+43   \n",
       "10001.0      4.318862e+05   1.187559e+13   5.215906e+20   2.771896e+28   \n",
       "10002.0      8.534241e+04   3.107811e+11   1.675904e+18   1.059260e+25   \n",
       "10003.0      2.230754e+06   2.059409e+14   2.395959e+22   3.056785e+30   \n",
       "10004.0      1.558588e+06   1.702691e+14   2.495270e+22   4.050082e+30   \n",
       "\n",
       "            Spectrale_entropy_First_EEG  Delta_absolute_First_EEG  ...  \\\n",
       "identifier                                                         ...   \n",
       "10000.0                        6.262214              1.360318e+11  ...   \n",
       "10001.0                        6.612633              4.054678e+07  ...   \n",
       "10002.0                        7.031513              8.109419e+06  ...   \n",
       "10003.0                        6.934269              2.573352e+08  ...   \n",
       "10004.0                        6.395352              1.091540e+08  ...   \n",
       "\n",
       "            Band_ratio_1_Z_axis  Band_ratio_2_Z_axis  Band_ratio_3_Z_axis  \\\n",
       "identifier                                                                  \n",
       "10000.0              230.828713         4.152119e-03                  0.0   \n",
       "10001.0              976.473575         9.853351e-04                  0.0   \n",
       "10002.0             1232.253627         7.709552e-04                  0.0   \n",
       "10003.0           466947.123980         1.715853e-07                  0.0   \n",
       "10004.0             1653.019877         5.566716e-04                  0.0   \n",
       "\n",
       "            Band_ratio_4_Z_axis  Hjort_activity_Z_axis  Hjort_mobility_Z_axis  \\\n",
       "identifier                                                                      \n",
       "10000.0                0.958428               0.057418               0.024455   \n",
       "10001.0                0.962154               0.020269               0.031833   \n",
       "10002.0                0.950012               0.012949               0.033339   \n",
       "10003.0                0.080121               0.001249               0.037619   \n",
       "10004.0                0.920189               0.027072               0.024418   \n",
       "\n",
       "            Hjort_complexity_Z_axis  75Percentile_Z_axis  \\\n",
       "identifier                                                 \n",
       "10000.0                    1.362229             0.067440   \n",
       "10001.0                    1.352479             0.078533   \n",
       "10002.0                    1.188277             0.057350   \n",
       "10003.0                    1.108619             0.009236   \n",
       "10004.0                    1.371279             0.036518   \n",
       "\n",
       "            Zero_crossing_rate_Z_axis  target  \n",
       "identifier                                     \n",
       "10000.0                      0.057544     0.0  \n",
       "10001.0                      0.020283     0.0  \n",
       "10002.0                      0.012978     0.0  \n",
       "10003.0                      0.001253     0.0  \n",
       "10004.0                      0.027271     0.0  \n",
       "\n",
       "[5 rows x 233 columns]"
      ]
     },
     "execution_count": 5,
     "metadata": {},
     "output_type": "execute_result"
    }
   ],
   "source": [
    "# drop useless columns and print out first rows just in case\n",
    "df_train.drop('0', axis=1, inplace=True)\n",
    "df_train.dropna(inplace=True)\n",
    "print(\"Train dataframe: \")\n",
    "df_train.head()"
   ]
  },
  {
   "cell_type": "code",
   "execution_count": 6,
   "metadata": {},
   "outputs": [
    {
     "name": "stdout",
     "output_type": "stream",
     "text": [
      "Test dataframe: \n"
     ]
    },
    {
     "data": {
      "text/html": [
       "<div>\n",
       "<style scoped>\n",
       "    .dataframe tbody tr th:only-of-type {\n",
       "        vertical-align: middle;\n",
       "    }\n",
       "\n",
       "    .dataframe tbody tr th {\n",
       "        vertical-align: top;\n",
       "    }\n",
       "\n",
       "    .dataframe thead th {\n",
       "        text-align: right;\n",
       "    }\n",
       "</style>\n",
       "<table border=\"1\" class=\"dataframe\">\n",
       "  <thead>\n",
       "    <tr style=\"text-align: right;\">\n",
       "      <th></th>\n",
       "      <th>SEF90_First_EEG</th>\n",
       "      <th>SEF95_First_EEG</th>\n",
       "      <th>SEF50_First_EEG</th>\n",
       "      <th>SP_First_EEG</th>\n",
       "      <th>SM1_First_EEG</th>\n",
       "      <th>SM2_First_EEG</th>\n",
       "      <th>SM3_First_EEG</th>\n",
       "      <th>SM4_First_EEG</th>\n",
       "      <th>Spectrale_entropy_First_EEG</th>\n",
       "      <th>Delta_absolute_First_EEG</th>\n",
       "      <th>...</th>\n",
       "      <th>Band_ratio_1_Z_axis</th>\n",
       "      <th>Band_ratio_2_Z_axis</th>\n",
       "      <th>Band_ratio_3_Z_axis</th>\n",
       "      <th>Band_ratio_4_Z_axis</th>\n",
       "      <th>Hjort_activity_Z_axis</th>\n",
       "      <th>Hjort_mobility_Z_axis</th>\n",
       "      <th>Hjort_complexity_Z_axis</th>\n",
       "      <th>75Percentile_Z_axis</th>\n",
       "      <th>Zero_crossing_rate_Z_axis</th>\n",
       "      <th>target</th>\n",
       "    </tr>\n",
       "    <tr>\n",
       "      <th>identifier</th>\n",
       "      <th></th>\n",
       "      <th></th>\n",
       "      <th></th>\n",
       "      <th></th>\n",
       "      <th></th>\n",
       "      <th></th>\n",
       "      <th></th>\n",
       "      <th></th>\n",
       "      <th></th>\n",
       "      <th></th>\n",
       "      <th></th>\n",
       "      <th></th>\n",
       "      <th></th>\n",
       "      <th></th>\n",
       "      <th></th>\n",
       "      <th></th>\n",
       "      <th></th>\n",
       "      <th></th>\n",
       "      <th></th>\n",
       "      <th></th>\n",
       "      <th></th>\n",
       "    </tr>\n",
       "  </thead>\n",
       "  <tbody>\n",
       "    <tr>\n",
       "      <th>0.0</th>\n",
       "      <td>2.666667</td>\n",
       "      <td>3.966667</td>\n",
       "      <td>0.866667</td>\n",
       "      <td>0.0</td>\n",
       "      <td>79.252459</td>\n",
       "      <td>9.620885e+05</td>\n",
       "      <td>2.326732e+10</td>\n",
       "      <td>7.406450e+14</td>\n",
       "      <td>5.725599</td>\n",
       "      <td>7347.728572</td>\n",
       "      <td>...</td>\n",
       "      <td>512.504737</td>\n",
       "      <td>0.001870</td>\n",
       "      <td>0.0</td>\n",
       "      <td>0.958244</td>\n",
       "      <td>0.000027</td>\n",
       "      <td>0.026729</td>\n",
       "      <td>1.457473</td>\n",
       "      <td>0.001986</td>\n",
       "      <td>0.000027</td>\n",
       "      <td>0.0</td>\n",
       "    </tr>\n",
       "    <tr>\n",
       "      <th>1.0</th>\n",
       "      <td>2.666667</td>\n",
       "      <td>4.400000</td>\n",
       "      <td>1.033333</td>\n",
       "      <td>0.0</td>\n",
       "      <td>55.468202</td>\n",
       "      <td>3.361163e+05</td>\n",
       "      <td>3.454033e+09</td>\n",
       "      <td>4.609771e+13</td>\n",
       "      <td>5.978044</td>\n",
       "      <td>4393.904638</td>\n",
       "      <td>...</td>\n",
       "      <td>567.881376</td>\n",
       "      <td>0.001694</td>\n",
       "      <td>0.0</td>\n",
       "      <td>0.961853</td>\n",
       "      <td>0.000914</td>\n",
       "      <td>0.026704</td>\n",
       "      <td>1.231548</td>\n",
       "      <td>0.007786</td>\n",
       "      <td>0.000915</td>\n",
       "      <td>0.0</td>\n",
       "    </tr>\n",
       "    <tr>\n",
       "      <th>2.0</th>\n",
       "      <td>2.700000</td>\n",
       "      <td>3.633333</td>\n",
       "      <td>1.266667</td>\n",
       "      <td>0.0</td>\n",
       "      <td>49.575288</td>\n",
       "      <td>1.835872e+05</td>\n",
       "      <td>1.021911e+09</td>\n",
       "      <td>6.874962e+12</td>\n",
       "      <td>6.285140</td>\n",
       "      <td>5328.923252</td>\n",
       "      <td>...</td>\n",
       "      <td>38.498872</td>\n",
       "      <td>0.025009</td>\n",
       "      <td>0.0</td>\n",
       "      <td>0.962830</td>\n",
       "      <td>0.000071</td>\n",
       "      <td>0.014332</td>\n",
       "      <td>0.882372</td>\n",
       "      <td>0.001908</td>\n",
       "      <td>0.000070</td>\n",
       "      <td>0.0</td>\n",
       "    </tr>\n",
       "    <tr>\n",
       "      <th>3.0</th>\n",
       "      <td>3.700000</td>\n",
       "      <td>7.466667</td>\n",
       "      <td>1.066667</td>\n",
       "      <td>0.0</td>\n",
       "      <td>63.346565</td>\n",
       "      <td>4.038258e+05</td>\n",
       "      <td>4.262463e+09</td>\n",
       "      <td>5.205751e+13</td>\n",
       "      <td>6.257641</td>\n",
       "      <td>5961.235831</td>\n",
       "      <td>...</td>\n",
       "      <td>105.479402</td>\n",
       "      <td>0.009120</td>\n",
       "      <td>0.0</td>\n",
       "      <td>0.961988</td>\n",
       "      <td>0.007120</td>\n",
       "      <td>0.023254</td>\n",
       "      <td>1.442748</td>\n",
       "      <td>0.051401</td>\n",
       "      <td>0.007127</td>\n",
       "      <td>0.0</td>\n",
       "    </tr>\n",
       "    <tr>\n",
       "      <th>4.0</th>\n",
       "      <td>1.833333</td>\n",
       "      <td>2.466667</td>\n",
       "      <td>0.866667</td>\n",
       "      <td>0.0</td>\n",
       "      <td>1522.437769</td>\n",
       "      <td>3.543400e+08</td>\n",
       "      <td>1.319126e+14</td>\n",
       "      <td>5.887484e+19</td>\n",
       "      <td>5.384868</td>\n",
       "      <td>172526.924372</td>\n",
       "      <td>...</td>\n",
       "      <td>7543.834538</td>\n",
       "      <td>0.000121</td>\n",
       "      <td>0.0</td>\n",
       "      <td>0.911327</td>\n",
       "      <td>0.002705</td>\n",
       "      <td>0.024730</td>\n",
       "      <td>1.251337</td>\n",
       "      <td>0.022282</td>\n",
       "      <td>0.002709</td>\n",
       "      <td>0.0</td>\n",
       "    </tr>\n",
       "  </tbody>\n",
       "</table>\n",
       "<p>5 rows × 233 columns</p>\n",
       "</div>"
      ],
      "text/plain": [
       "            SEF90_First_EEG  SEF95_First_EEG  SEF50_First_EEG  SP_First_EEG  \\\n",
       "identifier                                                                    \n",
       "0.0                2.666667         3.966667         0.866667           0.0   \n",
       "1.0                2.666667         4.400000         1.033333           0.0   \n",
       "2.0                2.700000         3.633333         1.266667           0.0   \n",
       "3.0                3.700000         7.466667         1.066667           0.0   \n",
       "4.0                1.833333         2.466667         0.866667           0.0   \n",
       "\n",
       "            SM1_First_EEG  SM2_First_EEG  SM3_First_EEG  SM4_First_EEG  \\\n",
       "identifier                                                               \n",
       "0.0             79.252459   9.620885e+05   2.326732e+10   7.406450e+14   \n",
       "1.0             55.468202   3.361163e+05   3.454033e+09   4.609771e+13   \n",
       "2.0             49.575288   1.835872e+05   1.021911e+09   6.874962e+12   \n",
       "3.0             63.346565   4.038258e+05   4.262463e+09   5.205751e+13   \n",
       "4.0           1522.437769   3.543400e+08   1.319126e+14   5.887484e+19   \n",
       "\n",
       "            Spectrale_entropy_First_EEG  Delta_absolute_First_EEG  ...  \\\n",
       "identifier                                                         ...   \n",
       "0.0                            5.725599               7347.728572  ...   \n",
       "1.0                            5.978044               4393.904638  ...   \n",
       "2.0                            6.285140               5328.923252  ...   \n",
       "3.0                            6.257641               5961.235831  ...   \n",
       "4.0                            5.384868             172526.924372  ...   \n",
       "\n",
       "            Band_ratio_1_Z_axis  Band_ratio_2_Z_axis  Band_ratio_3_Z_axis  \\\n",
       "identifier                                                                  \n",
       "0.0                  512.504737             0.001870                  0.0   \n",
       "1.0                  567.881376             0.001694                  0.0   \n",
       "2.0                   38.498872             0.025009                  0.0   \n",
       "3.0                  105.479402             0.009120                  0.0   \n",
       "4.0                 7543.834538             0.000121                  0.0   \n",
       "\n",
       "            Band_ratio_4_Z_axis  Hjort_activity_Z_axis  Hjort_mobility_Z_axis  \\\n",
       "identifier                                                                      \n",
       "0.0                    0.958244               0.000027               0.026729   \n",
       "1.0                    0.961853               0.000914               0.026704   \n",
       "2.0                    0.962830               0.000071               0.014332   \n",
       "3.0                    0.961988               0.007120               0.023254   \n",
       "4.0                    0.911327               0.002705               0.024730   \n",
       "\n",
       "            Hjort_complexity_Z_axis  75Percentile_Z_axis  \\\n",
       "identifier                                                 \n",
       "0.0                        1.457473             0.001986   \n",
       "1.0                        1.231548             0.007786   \n",
       "2.0                        0.882372             0.001908   \n",
       "3.0                        1.442748             0.051401   \n",
       "4.0                        1.251337             0.022282   \n",
       "\n",
       "            Zero_crossing_rate_Z_axis  target  \n",
       "identifier                                     \n",
       "0.0                          0.000027     0.0  \n",
       "1.0                          0.000915     0.0  \n",
       "2.0                          0.000070     0.0  \n",
       "3.0                          0.007127     0.0  \n",
       "4.0                          0.002709     0.0  \n",
       "\n",
       "[5 rows x 233 columns]"
      ]
     },
     "execution_count": 6,
     "metadata": {},
     "output_type": "execute_result"
    }
   ],
   "source": [
    "# drop useless columns and print out first rows just in case\n",
    "df_test.drop('0', axis=1, inplace=True)\n",
    "df_test.dropna(inplace=True)\n",
    "print(\"Test dataframe: \")\n",
    "df_test.head()"
   ]
  },
  {
   "cell_type": "markdown",
   "metadata": {},
   "source": [
    "Enfin, nous allons séparer les features des labels pour pouvoir créer nos premiers modèles."
   ]
  },
  {
   "cell_type": "code",
   "execution_count": 7,
   "metadata": {},
   "outputs": [],
   "source": [
    "# train data \n",
    "y_train = df_train.target\n",
    "X_train = df_train.drop('target', axis=1)\n",
    "\n",
    "# train data \n",
    "y_test = df_test.target\n",
    "X_test = df_test.drop('target', axis=1)"
   ]
  },
  {
   "cell_type": "markdown",
   "metadata": {},
   "source": [
    "Avant de passer à la partie suivante, nous vouloons juste observer quelle est la proportion de chaque métrique dans notre jeu de données. En effet, cela peut justifier l'optimisation de notre par rapport à une métrique plutôt qu'une aute et sera donc utile dans la suite (notamment dans l'interprétation des résultats)."
   ]
  },
  {
   "cell_type": "code",
   "execution_count": 8,
   "metadata": {},
   "outputs": [
    {
     "data": {
      "image/png": "[encoded data removed]",
      "text/plain": [
       "<Figure size 640x480 with 1 Axes>"
      ]
     },
     "metadata": {},
     "output_type": "display_data"
    }
   ],
   "source": [
    "plt.bar(df_train.target.value_counts().index, df_train.target.value_counts().values * 100 / df_train.shape[0])\n",
    "plt.title(\"Proportion de chaque classe dans le jeu de données\")\n",
    "plt.xlabel(\"Class\")\n",
    "plt.ylabel(\"Proportion (%)\")\n",
    "plt.show()"
   ]
  },
  {
   "cell_type": "markdown",
   "metadata": {},
   "source": [
    "Ainsi, on peut voir que la classe 1 ne représente que 5% des labels tandis que la classe 2 presque 35% ! Cette grande différence justifie le choix de la métrique F1-score pour le challenge ! "
   ]
  },
  {
   "cell_type": "markdown",
   "metadata": {},
   "source": [
    "### 2. Feature scaling "
   ]
  },
  {
   "cell_type": "markdown",
   "metadata": {},
   "source": [
    "Dans cette partie, nous allons scale nos data. En effet, avoir des données normalisées permet à la plupart des algorithmes de mieux fonctionner puisque les features sont toutes sur la même amplitude. "
   ]
  },
  {
   "cell_type": "code",
   "execution_count": 9,
   "metadata": {},
   "outputs": [],
   "source": [
    "# define scaler\n",
    "scaler = StandardScaler(with_std=True)\n",
    "\n",
    "# scale train and test sets\n",
    "scaler.fit(X_train)\n",
    "X_train_scaled = pd.DataFrame(scaler.transform(X_train), columns=X_train.columns)\n",
    "X_test_scaled = pd.DataFrame(scaler.transform(X_test), columns=X_test.columns)"
   ]
  },
  {
   "cell_type": "markdown",
   "metadata": {},
   "source": [
    "### 3. Comparaison des modèles "
   ]
  },
  {
   "cell_type": "markdown",
   "metadata": {},
   "source": [
    "Dans cette partie, les données sont prêtes à être données comme input des modèles. Ainsi, la première chose à faire est de définir les modèles que nous souhaitons utiliser dans notre étude. \n",
    "\n",
    "Pour le modèle SVM, nous avons choisi un kernel gaussien et une approche \"One-vs-rest\" pour adapter le modèle à une tâche multi-label. Cependant, l'expérience nous montrera que ce choix n'a pas d'impact et que ce modèle ne sera pas choisi. "
   ]
  },
  {
   "cell_type": "code",
   "execution_count": 15,
   "metadata": {},
   "outputs": [],
   "source": [
    "# SVM\n",
    "svm_model = SVC(\n",
    "    kernel='rbf', \n",
    "    C=10, \n",
    "    decision_function_shape='ovr',  # 'ovr' stands for One-vs-Rest\n",
    "    random_state=42\n",
    ")  \n",
    "\n",
    "# Random Forest\n",
    "rf_model = RandomForestClassifier(n_estimators=100, random_state=42)\n",
    "\n",
    "# gradient boosting\n",
    "xgboost_model = xgb.XGBClassifier(\n",
    "    objective='multi:softmax',  # For multiclass classification\n",
    "    num_class=len(set(y_train)),  # Number of classes\n",
    "    random_state=42\n",
    ")"
   ]
  },
  {
   "cell_type": "markdown",
   "metadata": {},
   "source": [
    "Commençons par évaluer la performance du modèle SVM. "
   ]
  },
  {
   "cell_type": "code",
   "execution_count": 16,
   "metadata": {},
   "outputs": [
    {
     "name": "stdout",
     "output_type": "stream",
     "text": [
      "SVM model performance:  [0.57599706 0.51628019 0.5815105  0.60721364 0.59604181]\n"
     ]
    }
   ],
   "source": [
    "svm_scores = cross_val_score(\n",
    "    svm_model, \n",
    "    X_train_scaled, \n",
    "    y_train, \n",
    "    cv=5, \n",
    "    scoring='f1_macro'  # metric to measure\n",
    ")\n",
    "\n",
    "print(\"SVM model performance: \", svm_scores)"
   ]
  },
  {
   "cell_type": "markdown",
   "metadata": {},
   "source": [
    "Ensuite, essayons un modèle random forest: "
   ]
  },
  {
   "cell_type": "code",
   "execution_count": 17,
   "metadata": {},
   "outputs": [
    {
     "name": "stdout",
     "output_type": "stream",
     "text": [
      "Random Forest model performance:  [0.62209518 0.5072201  0.61597636 0.60853687 0.61387856]\n"
     ]
    }
   ],
   "source": [
    "rf_scores = cross_val_score(\n",
    "    rf_model, \n",
    "    X_train_scaled, \n",
    "    y_train, \n",
    "    cv=5, \n",
    "    scoring='f1_macro'  # metric to measure\n",
    ")\n",
    "\n",
    "print(\"Random Forest model performance: \", rf_scores)"
   ]
  },
  {
   "cell_type": "markdown",
   "metadata": {},
   "source": [
    "Enfin, essayons une méthode de gradient boosting:"
   ]
  },
  {
   "cell_type": "code",
   "execution_count": 18,
   "metadata": {},
   "outputs": [
    {
     "name": "stdout",
     "output_type": "stream",
     "text": [
      "XGBoost model performance:  [0.68449399 0.56567819 0.69896058 0.68221691 0.69208014]\n"
     ]
    }
   ],
   "source": [
    "xgboost_scores = cross_val_score(\n",
    "    xgboost_model, \n",
    "    X_train_scaled, \n",
    "    y_train, \n",
    "    cv=5, \n",
    "    scoring='f1_macro'  # metric to measure\n",
    ")\n",
    "\n",
    "print(\"XGBoost model performance: \", xgboost_scores)"
   ]
  },
  {
   "cell_type": "markdown",
   "metadata": {},
   "source": [
    "Nous allons maintenant comparé nos 3 modèles: "
   ]
  },
  {
   "cell_type": "code",
   "execution_count": 27,
   "metadata": {},
   "outputs": [
    {
     "data": {
      "image/png": "[encoded data removed]",
      "text/plain": [
       "<Figure size 640x480 with 1 Axes>"
      ]
     },
     "metadata": {},
     "output_type": "display_data"
    }
   ],
   "source": [
    "models_perf = {\n",
    "    \"SVM\": (np.mean(svm_scores), np.std(svm_scores)), \n",
    "    \"Random Forest\": (np.mean(rf_scores), np.std(rf_scores)), \n",
    "    \"Gradient Boosting\": (np.mean(xgboost_scores), np.std(xgboost_scores))\n",
    "}\n",
    "\n",
    "\n",
    "# x, y values and error bars (std)\n",
    "x = [\"SVM\", \"Random Forest\", \"Gradient Boosting\"]\n",
    "y = [np.mean(svm_scores), np.mean(rf_scores), np.mean(xgboost_scores)]\n",
    "error_bar = [np.std(svm_scores), np.std(rf_scores), np.std(xgboost_scores)]\n",
    "\n",
    "# plot \n",
    "plt.bar(x, y, width=0.4)\n",
    "plt.errorbar(x, y, yerr=error_bar, fmt=\"o\", color=\"r\", label=\"Ecart-type\")\n",
    "plt.title(\"Performance des modèles\")\n",
    "plt.ylabel(\"F1-score\")\n",
    "plt.legend(loc=\"upper left\")\n",
    "plt.show()"
   ]
  },
  {
   "cell_type": "markdown",
   "metadata": {},
   "source": [
    "Ainsi, d'après la figure précédente, il est évident que le modèle le plus performant est le modèle XGBoost. Ainsi, c'est ce modèle que nous allons chercher à optimiser. "
   ]
  },
  {
   "cell_type": "markdown",
   "metadata": {},
   "source": [
    "### 4. Optimisation des paramètres"
   ]
  },
  {
   "cell_type": "markdown",
   "metadata": {},
   "source": [
    "Pour effectuer une optimisation des hyperparamètres, nous commençns par spécifier l'algorithme dont nous souhaitons optimiser les paramètres: "
   ]
  },
  {
   "cell_type": "code",
   "execution_count": 29,
   "metadata": {},
   "outputs": [],
   "source": [
    "# Define the XGBoost classifier\n",
    "xgb_model = xgb.XGBClassifier()"
   ]
  },
  {
   "cell_type": "markdown",
   "metadata": {},
   "source": [
    "Ensuite, nous définissons l'ensemble des hyperparamètres que nous souhaitons tester dans notre grid search et fittons le trainset: "
   ]
  },
  {
   "cell_type": "code",
   "execution_count": 32,
   "metadata": {},
   "outputs": [],
   "source": [
    "# Hyperparameters for grid search\n",
    "param_grid = {\n",
    "    'min_child_weight': [1, 5, 10],\n",
    "    'gamma': [0.5, 1, 1.5, 2, 5],\n",
    "    'subsample': [0.6, 0.8, 1.0],\n",
    "    'colsample_bytree': [0.6, 0.8, 1.0],\n",
    "    'max_depth': [3, 4, 5]\n",
    "}"
   ]
  },
  {
   "cell_type": "code",
   "execution_count": 34,
   "metadata": {},
   "outputs": [
    {
     "ename": "KeyboardInterrupt",
     "evalue": "",
     "output_type": "error",
     "traceback": [
      "\u001b[1;31m---------------------------------------------------------------------------\u001b[0m",
      "\u001b[1;31mKeyboardInterrupt\u001b[0m                         Traceback (most recent call last)",
      "Cell \u001b[1;32mIn[34], line 5\u001b[0m\n\u001b[0;32m      2\u001b[0m grid_search \u001b[38;5;241m=\u001b[39m GridSearchCV(estimator\u001b[38;5;241m=\u001b[39mxgb_model, param_grid\u001b[38;5;241m=\u001b[39mparam_grid, scoring\u001b[38;5;241m=\u001b[39m\u001b[38;5;124m'\u001b[39m\u001b[38;5;124mf1_macro\u001b[39m\u001b[38;5;124m'\u001b[39m, cv\u001b[38;5;241m=\u001b[39m\u001b[38;5;241m3\u001b[39m)\n\u001b[0;32m      4\u001b[0m \u001b[38;5;66;03m# Fit the grid search to the data\u001b[39;00m\n\u001b[1;32m----> 5\u001b[0m \u001b[43mgrid_search\u001b[49m\u001b[38;5;241;43m.\u001b[39;49m\u001b[43mfit\u001b[49m\u001b[43m(\u001b[49m\u001b[43mX_train_scaled\u001b[49m\u001b[43m,\u001b[49m\u001b[43m \u001b[49m\u001b[43my_train\u001b[49m\u001b[43m)\u001b[49m\n",
      "File \u001b[1;32mc:\\Users\\elkan\\anaconda3\\envs\\ml_b\\lib\\site-packages\\sklearn\\base.py:1151\u001b[0m, in \u001b[0;36m_fit_context.<locals>.decorator.<locals>.wrapper\u001b[1;34m(estimator, *args, **kwargs)\u001b[0m\n\u001b[0;32m   1144\u001b[0m     estimator\u001b[38;5;241m.\u001b[39m_validate_params()\n\u001b[0;32m   1146\u001b[0m \u001b[38;5;28;01mwith\u001b[39;00m config_context(\n\u001b[0;32m   1147\u001b[0m     skip_parameter_validation\u001b[38;5;241m=\u001b[39m(\n\u001b[0;32m   1148\u001b[0m         prefer_skip_nested_validation \u001b[38;5;129;01mor\u001b[39;00m global_skip_validation\n\u001b[0;32m   1149\u001b[0m     )\n\u001b[0;32m   1150\u001b[0m ):\n\u001b[1;32m-> 1151\u001b[0m     \u001b[38;5;28;01mreturn\u001b[39;00m fit_method(estimator, \u001b[38;5;241m*\u001b[39margs, \u001b[38;5;241m*\u001b[39m\u001b[38;5;241m*\u001b[39mkwargs)\n",
      "File \u001b[1;32mc:\\Users\\elkan\\anaconda3\\envs\\ml_b\\lib\\site-packages\\sklearn\\model_selection\\_search.py:898\u001b[0m, in \u001b[0;36mBaseSearchCV.fit\u001b[1;34m(self, X, y, groups, **fit_params)\u001b[0m\n\u001b[0;32m    892\u001b[0m     results \u001b[38;5;241m=\u001b[39m \u001b[38;5;28mself\u001b[39m\u001b[38;5;241m.\u001b[39m_format_results(\n\u001b[0;32m    893\u001b[0m         all_candidate_params, n_splits, all_out, all_more_results\n\u001b[0;32m    894\u001b[0m     )\n\u001b[0;32m    896\u001b[0m     \u001b[38;5;28;01mreturn\u001b[39;00m results\n\u001b[1;32m--> 898\u001b[0m \u001b[38;5;28;43mself\u001b[39;49m\u001b[38;5;241;43m.\u001b[39;49m\u001b[43m_run_search\u001b[49m\u001b[43m(\u001b[49m\u001b[43mevaluate_candidates\u001b[49m\u001b[43m)\u001b[49m\n\u001b[0;32m    900\u001b[0m \u001b[38;5;66;03m# multimetric is determined here because in the case of a callable\u001b[39;00m\n\u001b[0;32m    901\u001b[0m \u001b[38;5;66;03m# self.scoring the return type is only known after calling\u001b[39;00m\n\u001b[0;32m    902\u001b[0m first_test_score \u001b[38;5;241m=\u001b[39m all_out[\u001b[38;5;241m0\u001b[39m][\u001b[38;5;124m\"\u001b[39m\u001b[38;5;124mtest_scores\u001b[39m\u001b[38;5;124m\"\u001b[39m]\n",
      "File \u001b[1;32mc:\\Users\\elkan\\anaconda3\\envs\\ml_b\\lib\\site-packages\\sklearn\\model_selection\\_search.py:1419\u001b[0m, in \u001b[0;36mGridSearchCV._run_search\u001b[1;34m(self, evaluate_candidates)\u001b[0m\n\u001b[0;32m   1417\u001b[0m \u001b[38;5;28;01mdef\u001b[39;00m \u001b[38;5;21m_run_search\u001b[39m(\u001b[38;5;28mself\u001b[39m, evaluate_candidates):\n\u001b[0;32m   1418\u001b[0m \u001b[38;5;250m    \u001b[39m\u001b[38;5;124;03m\"\"\"Search all candidates in param_grid\"\"\"\u001b[39;00m\n\u001b[1;32m-> 1419\u001b[0m     \u001b[43mevaluate_candidates\u001b[49m\u001b[43m(\u001b[49m\u001b[43mParameterGrid\u001b[49m\u001b[43m(\u001b[49m\u001b[38;5;28;43mself\u001b[39;49m\u001b[38;5;241;43m.\u001b[39;49m\u001b[43mparam_grid\u001b[49m\u001b[43m)\u001b[49m\u001b[43m)\u001b[49m\n",
      "File \u001b[1;32mc:\\Users\\elkan\\anaconda3\\envs\\ml_b\\lib\\site-packages\\sklearn\\model_selection\\_search.py:845\u001b[0m, in \u001b[0;36mBaseSearchCV.fit.<locals>.evaluate_candidates\u001b[1;34m(candidate_params, cv, more_results)\u001b[0m\n\u001b[0;32m    837\u001b[0m \u001b[38;5;28;01mif\u001b[39;00m \u001b[38;5;28mself\u001b[39m\u001b[38;5;241m.\u001b[39mverbose \u001b[38;5;241m>\u001b[39m \u001b[38;5;241m0\u001b[39m:\n\u001b[0;32m    838\u001b[0m     \u001b[38;5;28mprint\u001b[39m(\n\u001b[0;32m    839\u001b[0m         \u001b[38;5;124m\"\u001b[39m\u001b[38;5;124mFitting \u001b[39m\u001b[38;5;132;01m{0}\u001b[39;00m\u001b[38;5;124m folds for each of \u001b[39m\u001b[38;5;132;01m{1}\u001b[39;00m\u001b[38;5;124m candidates,\u001b[39m\u001b[38;5;124m\"\u001b[39m\n\u001b[0;32m    840\u001b[0m         \u001b[38;5;124m\"\u001b[39m\u001b[38;5;124m totalling \u001b[39m\u001b[38;5;132;01m{2}\u001b[39;00m\u001b[38;5;124m fits\u001b[39m\u001b[38;5;124m\"\u001b[39m\u001b[38;5;241m.\u001b[39mformat(\n\u001b[0;32m    841\u001b[0m             n_splits, n_candidates, n_candidates \u001b[38;5;241m*\u001b[39m n_splits\n\u001b[0;32m    842\u001b[0m         )\n\u001b[0;32m    843\u001b[0m     )\n\u001b[1;32m--> 845\u001b[0m out \u001b[38;5;241m=\u001b[39m \u001b[43mparallel\u001b[49m\u001b[43m(\u001b[49m\n\u001b[0;32m    846\u001b[0m \u001b[43m    \u001b[49m\u001b[43mdelayed\u001b[49m\u001b[43m(\u001b[49m\u001b[43m_fit_and_score\u001b[49m\u001b[43m)\u001b[49m\u001b[43m(\u001b[49m\n\u001b[0;32m    847\u001b[0m \u001b[43m        \u001b[49m\u001b[43mclone\u001b[49m\u001b[43m(\u001b[49m\u001b[43mbase_estimator\u001b[49m\u001b[43m)\u001b[49m\u001b[43m,\u001b[49m\n\u001b[0;32m    848\u001b[0m \u001b[43m        \u001b[49m\u001b[43mX\u001b[49m\u001b[43m,\u001b[49m\n\u001b[0;32m    849\u001b[0m \u001b[43m        \u001b[49m\u001b[43my\u001b[49m\u001b[43m,\u001b[49m\n\u001b[0;32m    850\u001b[0m \u001b[43m        \u001b[49m\u001b[43mtrain\u001b[49m\u001b[38;5;241;43m=\u001b[39;49m\u001b[43mtrain\u001b[49m\u001b[43m,\u001b[49m\n\u001b[0;32m    851\u001b[0m \u001b[43m        \u001b[49m\u001b[43mtest\u001b[49m\u001b[38;5;241;43m=\u001b[39;49m\u001b[43mtest\u001b[49m\u001b[43m,\u001b[49m\n\u001b[0;32m    852\u001b[0m \u001b[43m        \u001b[49m\u001b[43mparameters\u001b[49m\u001b[38;5;241;43m=\u001b[39;49m\u001b[43mparameters\u001b[49m\u001b[43m,\u001b[49m\n\u001b[0;32m    853\u001b[0m \u001b[43m        \u001b[49m\u001b[43msplit_progress\u001b[49m\u001b[38;5;241;43m=\u001b[39;49m\u001b[43m(\u001b[49m\u001b[43msplit_idx\u001b[49m\u001b[43m,\u001b[49m\u001b[43m \u001b[49m\u001b[43mn_splits\u001b[49m\u001b[43m)\u001b[49m\u001b[43m,\u001b[49m\n\u001b[0;32m    854\u001b[0m \u001b[43m        \u001b[49m\u001b[43mcandidate_progress\u001b[49m\u001b[38;5;241;43m=\u001b[39;49m\u001b[43m(\u001b[49m\u001b[43mcand_idx\u001b[49m\u001b[43m,\u001b[49m\u001b[43m \u001b[49m\u001b[43mn_candidates\u001b[49m\u001b[43m)\u001b[49m\u001b[43m,\u001b[49m\n\u001b[0;32m    855\u001b[0m \u001b[43m        \u001b[49m\u001b[38;5;241;43m*\u001b[39;49m\u001b[38;5;241;43m*\u001b[39;49m\u001b[43mfit_and_score_kwargs\u001b[49m\u001b[43m,\u001b[49m\n\u001b[0;32m    856\u001b[0m \u001b[43m    \u001b[49m\u001b[43m)\u001b[49m\n\u001b[0;32m    857\u001b[0m \u001b[43m    \u001b[49m\u001b[38;5;28;43;01mfor\u001b[39;49;00m\u001b[43m \u001b[49m\u001b[43m(\u001b[49m\u001b[43mcand_idx\u001b[49m\u001b[43m,\u001b[49m\u001b[43m \u001b[49m\u001b[43mparameters\u001b[49m\u001b[43m)\u001b[49m\u001b[43m,\u001b[49m\u001b[43m \u001b[49m\u001b[43m(\u001b[49m\u001b[43msplit_idx\u001b[49m\u001b[43m,\u001b[49m\u001b[43m \u001b[49m\u001b[43m(\u001b[49m\u001b[43mtrain\u001b[49m\u001b[43m,\u001b[49m\u001b[43m \u001b[49m\u001b[43mtest\u001b[49m\u001b[43m)\u001b[49m\u001b[43m)\u001b[49m\u001b[43m \u001b[49m\u001b[38;5;129;43;01min\u001b[39;49;00m\u001b[43m \u001b[49m\u001b[43mproduct\u001b[49m\u001b[43m(\u001b[49m\n\u001b[0;32m    858\u001b[0m \u001b[43m        \u001b[49m\u001b[38;5;28;43menumerate\u001b[39;49m\u001b[43m(\u001b[49m\u001b[43mcandidate_params\u001b[49m\u001b[43m)\u001b[49m\u001b[43m,\u001b[49m\u001b[43m \u001b[49m\u001b[38;5;28;43menumerate\u001b[39;49m\u001b[43m(\u001b[49m\u001b[43mcv\u001b[49m\u001b[38;5;241;43m.\u001b[39;49m\u001b[43msplit\u001b[49m\u001b[43m(\u001b[49m\u001b[43mX\u001b[49m\u001b[43m,\u001b[49m\u001b[43m \u001b[49m\u001b[43my\u001b[49m\u001b[43m,\u001b[49m\u001b[43m \u001b[49m\u001b[43mgroups\u001b[49m\u001b[43m)\u001b[49m\u001b[43m)\u001b[49m\n\u001b[0;32m    859\u001b[0m \u001b[43m    \u001b[49m\u001b[43m)\u001b[49m\n\u001b[0;32m    860\u001b[0m \u001b[43m\u001b[49m\u001b[43m)\u001b[49m\n\u001b[0;32m    862\u001b[0m \u001b[38;5;28;01mif\u001b[39;00m \u001b[38;5;28mlen\u001b[39m(out) \u001b[38;5;241m<\u001b[39m \u001b[38;5;241m1\u001b[39m:\n\u001b[0;32m    863\u001b[0m     \u001b[38;5;28;01mraise\u001b[39;00m \u001b[38;5;167;01mValueError\u001b[39;00m(\n\u001b[0;32m    864\u001b[0m         \u001b[38;5;124m\"\u001b[39m\u001b[38;5;124mNo fits were performed. \u001b[39m\u001b[38;5;124m\"\u001b[39m\n\u001b[0;32m    865\u001b[0m         \u001b[38;5;124m\"\u001b[39m\u001b[38;5;124mWas the CV iterator empty? \u001b[39m\u001b[38;5;124m\"\u001b[39m\n\u001b[0;32m    866\u001b[0m         \u001b[38;5;124m\"\u001b[39m\u001b[38;5;124mWere there no candidates?\u001b[39m\u001b[38;5;124m\"\u001b[39m\n\u001b[0;32m    867\u001b[0m     )\n",
      "File \u001b[1;32mc:\\Users\\elkan\\anaconda3\\envs\\ml_b\\lib\\site-packages\\sklearn\\utils\\parallel.py:65\u001b[0m, in \u001b[0;36mParallel.__call__\u001b[1;34m(self, iterable)\u001b[0m\n\u001b[0;32m     60\u001b[0m config \u001b[38;5;241m=\u001b[39m get_config()\n\u001b[0;32m     61\u001b[0m iterable_with_config \u001b[38;5;241m=\u001b[39m (\n\u001b[0;32m     62\u001b[0m     (_with_config(delayed_func, config), args, kwargs)\n\u001b[0;32m     63\u001b[0m     \u001b[38;5;28;01mfor\u001b[39;00m delayed_func, args, kwargs \u001b[38;5;129;01min\u001b[39;00m iterable\n\u001b[0;32m     64\u001b[0m )\n\u001b[1;32m---> 65\u001b[0m \u001b[38;5;28;01mreturn\u001b[39;00m \u001b[38;5;28;43msuper\u001b[39;49m\u001b[43m(\u001b[49m\u001b[43m)\u001b[49m\u001b[38;5;241;43m.\u001b[39;49m\u001b[38;5;21;43m__call__\u001b[39;49m\u001b[43m(\u001b[49m\u001b[43miterable_with_config\u001b[49m\u001b[43m)\u001b[49m\n",
      "File \u001b[1;32mc:\\Users\\elkan\\anaconda3\\envs\\ml_b\\lib\\site-packages\\joblib\\parallel.py:1088\u001b[0m, in \u001b[0;36mParallel.__call__\u001b[1;34m(self, iterable)\u001b[0m\n\u001b[0;32m   1085\u001b[0m \u001b[38;5;28;01mif\u001b[39;00m \u001b[38;5;28mself\u001b[39m\u001b[38;5;241m.\u001b[39mdispatch_one_batch(iterator):\n\u001b[0;32m   1086\u001b[0m     \u001b[38;5;28mself\u001b[39m\u001b[38;5;241m.\u001b[39m_iterating \u001b[38;5;241m=\u001b[39m \u001b[38;5;28mself\u001b[39m\u001b[38;5;241m.\u001b[39m_original_iterator \u001b[38;5;129;01mis\u001b[39;00m \u001b[38;5;129;01mnot\u001b[39;00m \u001b[38;5;28;01mNone\u001b[39;00m\n\u001b[1;32m-> 1088\u001b[0m \u001b[38;5;28;01mwhile\u001b[39;00m \u001b[38;5;28;43mself\u001b[39;49m\u001b[38;5;241;43m.\u001b[39;49m\u001b[43mdispatch_one_batch\u001b[49m\u001b[43m(\u001b[49m\u001b[43miterator\u001b[49m\u001b[43m)\u001b[49m:\n\u001b[0;32m   1089\u001b[0m     \u001b[38;5;28;01mpass\u001b[39;00m\n\u001b[0;32m   1091\u001b[0m \u001b[38;5;28;01mif\u001b[39;00m pre_dispatch \u001b[38;5;241m==\u001b[39m \u001b[38;5;124m\"\u001b[39m\u001b[38;5;124mall\u001b[39m\u001b[38;5;124m\"\u001b[39m \u001b[38;5;129;01mor\u001b[39;00m n_jobs \u001b[38;5;241m==\u001b[39m \u001b[38;5;241m1\u001b[39m:\n\u001b[0;32m   1092\u001b[0m     \u001b[38;5;66;03m# The iterable was consumed all at once by the above for loop.\u001b[39;00m\n\u001b[0;32m   1093\u001b[0m     \u001b[38;5;66;03m# No need to wait for async callbacks to trigger to\u001b[39;00m\n\u001b[0;32m   1094\u001b[0m     \u001b[38;5;66;03m# consumption.\u001b[39;00m\n",
      "File \u001b[1;32mc:\\Users\\elkan\\anaconda3\\envs\\ml_b\\lib\\site-packages\\joblib\\parallel.py:901\u001b[0m, in \u001b[0;36mParallel.dispatch_one_batch\u001b[1;34m(self, iterator)\u001b[0m\n\u001b[0;32m    899\u001b[0m     \u001b[38;5;28;01mreturn\u001b[39;00m \u001b[38;5;28;01mFalse\u001b[39;00m\n\u001b[0;32m    900\u001b[0m \u001b[38;5;28;01melse\u001b[39;00m:\n\u001b[1;32m--> 901\u001b[0m     \u001b[38;5;28;43mself\u001b[39;49m\u001b[38;5;241;43m.\u001b[39;49m\u001b[43m_dispatch\u001b[49m\u001b[43m(\u001b[49m\u001b[43mtasks\u001b[49m\u001b[43m)\u001b[49m\n\u001b[0;32m    902\u001b[0m     \u001b[38;5;28;01mreturn\u001b[39;00m \u001b[38;5;28;01mTrue\u001b[39;00m\n",
      "File \u001b[1;32mc:\\Users\\elkan\\anaconda3\\envs\\ml_b\\lib\\site-packages\\joblib\\parallel.py:819\u001b[0m, in \u001b[0;36mParallel._dispatch\u001b[1;34m(self, batch)\u001b[0m\n\u001b[0;32m    817\u001b[0m \u001b[38;5;28;01mwith\u001b[39;00m \u001b[38;5;28mself\u001b[39m\u001b[38;5;241m.\u001b[39m_lock:\n\u001b[0;32m    818\u001b[0m     job_idx \u001b[38;5;241m=\u001b[39m \u001b[38;5;28mlen\u001b[39m(\u001b[38;5;28mself\u001b[39m\u001b[38;5;241m.\u001b[39m_jobs)\n\u001b[1;32m--> 819\u001b[0m     job \u001b[38;5;241m=\u001b[39m \u001b[38;5;28;43mself\u001b[39;49m\u001b[38;5;241;43m.\u001b[39;49m\u001b[43m_backend\u001b[49m\u001b[38;5;241;43m.\u001b[39;49m\u001b[43mapply_async\u001b[49m\u001b[43m(\u001b[49m\u001b[43mbatch\u001b[49m\u001b[43m,\u001b[49m\u001b[43m \u001b[49m\u001b[43mcallback\u001b[49m\u001b[38;5;241;43m=\u001b[39;49m\u001b[43mcb\u001b[49m\u001b[43m)\u001b[49m\n\u001b[0;32m    820\u001b[0m     \u001b[38;5;66;03m# A job can complete so quickly than its callback is\u001b[39;00m\n\u001b[0;32m    821\u001b[0m     \u001b[38;5;66;03m# called before we get here, causing self._jobs to\u001b[39;00m\n\u001b[0;32m    822\u001b[0m     \u001b[38;5;66;03m# grow. To ensure correct results ordering, .insert is\u001b[39;00m\n\u001b[0;32m    823\u001b[0m     \u001b[38;5;66;03m# used (rather than .append) in the following line\u001b[39;00m\n\u001b[0;32m    824\u001b[0m     \u001b[38;5;28mself\u001b[39m\u001b[38;5;241m.\u001b[39m_jobs\u001b[38;5;241m.\u001b[39minsert(job_idx, job)\n",
      "File \u001b[1;32mc:\\Users\\elkan\\anaconda3\\envs\\ml_b\\lib\\site-packages\\joblib\\_parallel_backends.py:208\u001b[0m, in \u001b[0;36mSequentialBackend.apply_async\u001b[1;34m(self, func, callback)\u001b[0m\n\u001b[0;32m    206\u001b[0m \u001b[38;5;28;01mdef\u001b[39;00m \u001b[38;5;21mapply_async\u001b[39m(\u001b[38;5;28mself\u001b[39m, func, callback\u001b[38;5;241m=\u001b[39m\u001b[38;5;28;01mNone\u001b[39;00m):\n\u001b[0;32m    207\u001b[0m \u001b[38;5;250m    \u001b[39m\u001b[38;5;124;03m\"\"\"Schedule a func to be run\"\"\"\u001b[39;00m\n\u001b[1;32m--> 208\u001b[0m     result \u001b[38;5;241m=\u001b[39m \u001b[43mImmediateResult\u001b[49m\u001b[43m(\u001b[49m\u001b[43mfunc\u001b[49m\u001b[43m)\u001b[49m\n\u001b[0;32m    209\u001b[0m     \u001b[38;5;28;01mif\u001b[39;00m callback:\n\u001b[0;32m    210\u001b[0m         callback(result)\n",
      "File \u001b[1;32mc:\\Users\\elkan\\anaconda3\\envs\\ml_b\\lib\\site-packages\\joblib\\_parallel_backends.py:597\u001b[0m, in \u001b[0;36mImmediateResult.__init__\u001b[1;34m(self, batch)\u001b[0m\n\u001b[0;32m    594\u001b[0m \u001b[38;5;28;01mdef\u001b[39;00m \u001b[38;5;21m__init__\u001b[39m(\u001b[38;5;28mself\u001b[39m, batch):\n\u001b[0;32m    595\u001b[0m     \u001b[38;5;66;03m# Don't delay the application, to avoid keeping the input\u001b[39;00m\n\u001b[0;32m    596\u001b[0m     \u001b[38;5;66;03m# arguments in memory\u001b[39;00m\n\u001b[1;32m--> 597\u001b[0m     \u001b[38;5;28mself\u001b[39m\u001b[38;5;241m.\u001b[39mresults \u001b[38;5;241m=\u001b[39m \u001b[43mbatch\u001b[49m\u001b[43m(\u001b[49m\u001b[43m)\u001b[49m\n",
      "File \u001b[1;32mc:\\Users\\elkan\\anaconda3\\envs\\ml_b\\lib\\site-packages\\joblib\\parallel.py:288\u001b[0m, in \u001b[0;36mBatchedCalls.__call__\u001b[1;34m(self)\u001b[0m\n\u001b[0;32m    284\u001b[0m \u001b[38;5;28;01mdef\u001b[39;00m \u001b[38;5;21m__call__\u001b[39m(\u001b[38;5;28mself\u001b[39m):\n\u001b[0;32m    285\u001b[0m     \u001b[38;5;66;03m# Set the default nested backend to self._backend but do not set the\u001b[39;00m\n\u001b[0;32m    286\u001b[0m     \u001b[38;5;66;03m# change the default number of processes to -1\u001b[39;00m\n\u001b[0;32m    287\u001b[0m     \u001b[38;5;28;01mwith\u001b[39;00m parallel_backend(\u001b[38;5;28mself\u001b[39m\u001b[38;5;241m.\u001b[39m_backend, n_jobs\u001b[38;5;241m=\u001b[39m\u001b[38;5;28mself\u001b[39m\u001b[38;5;241m.\u001b[39m_n_jobs):\n\u001b[1;32m--> 288\u001b[0m         \u001b[38;5;28;01mreturn\u001b[39;00m [func(\u001b[38;5;241m*\u001b[39margs, \u001b[38;5;241m*\u001b[39m\u001b[38;5;241m*\u001b[39mkwargs)\n\u001b[0;32m    289\u001b[0m                 \u001b[38;5;28;01mfor\u001b[39;00m func, args, kwargs \u001b[38;5;129;01min\u001b[39;00m \u001b[38;5;28mself\u001b[39m\u001b[38;5;241m.\u001b[39mitems]\n",
      "File \u001b[1;32mc:\\Users\\elkan\\anaconda3\\envs\\ml_b\\lib\\site-packages\\joblib\\parallel.py:288\u001b[0m, in \u001b[0;36m<listcomp>\u001b[1;34m(.0)\u001b[0m\n\u001b[0;32m    284\u001b[0m \u001b[38;5;28;01mdef\u001b[39;00m \u001b[38;5;21m__call__\u001b[39m(\u001b[38;5;28mself\u001b[39m):\n\u001b[0;32m    285\u001b[0m     \u001b[38;5;66;03m# Set the default nested backend to self._backend but do not set the\u001b[39;00m\n\u001b[0;32m    286\u001b[0m     \u001b[38;5;66;03m# change the default number of processes to -1\u001b[39;00m\n\u001b[0;32m    287\u001b[0m     \u001b[38;5;28;01mwith\u001b[39;00m parallel_backend(\u001b[38;5;28mself\u001b[39m\u001b[38;5;241m.\u001b[39m_backend, n_jobs\u001b[38;5;241m=\u001b[39m\u001b[38;5;28mself\u001b[39m\u001b[38;5;241m.\u001b[39m_n_jobs):\n\u001b[1;32m--> 288\u001b[0m         \u001b[38;5;28;01mreturn\u001b[39;00m [func(\u001b[38;5;241m*\u001b[39margs, \u001b[38;5;241m*\u001b[39m\u001b[38;5;241m*\u001b[39mkwargs)\n\u001b[0;32m    289\u001b[0m                 \u001b[38;5;28;01mfor\u001b[39;00m func, args, kwargs \u001b[38;5;129;01min\u001b[39;00m \u001b[38;5;28mself\u001b[39m\u001b[38;5;241m.\u001b[39mitems]\n",
      "File \u001b[1;32mc:\\Users\\elkan\\anaconda3\\envs\\ml_b\\lib\\site-packages\\sklearn\\utils\\parallel.py:127\u001b[0m, in \u001b[0;36m_FuncWrapper.__call__\u001b[1;34m(self, *args, **kwargs)\u001b[0m\n\u001b[0;32m    125\u001b[0m     config \u001b[38;5;241m=\u001b[39m {}\n\u001b[0;32m    126\u001b[0m \u001b[38;5;28;01mwith\u001b[39;00m config_context(\u001b[38;5;241m*\u001b[39m\u001b[38;5;241m*\u001b[39mconfig):\n\u001b[1;32m--> 127\u001b[0m     \u001b[38;5;28;01mreturn\u001b[39;00m \u001b[38;5;28mself\u001b[39m\u001b[38;5;241m.\u001b[39mfunction(\u001b[38;5;241m*\u001b[39margs, \u001b[38;5;241m*\u001b[39m\u001b[38;5;241m*\u001b[39mkwargs)\n",
      "File \u001b[1;32mc:\\Users\\elkan\\anaconda3\\envs\\ml_b\\lib\\site-packages\\sklearn\\model_selection\\_validation.py:732\u001b[0m, in \u001b[0;36m_fit_and_score\u001b[1;34m(estimator, X, y, scorer, train, test, verbose, parameters, fit_params, return_train_score, return_parameters, return_n_test_samples, return_times, return_estimator, split_progress, candidate_progress, error_score)\u001b[0m\n\u001b[0;32m    730\u001b[0m         estimator\u001b[38;5;241m.\u001b[39mfit(X_train, \u001b[38;5;241m*\u001b[39m\u001b[38;5;241m*\u001b[39mfit_params)\n\u001b[0;32m    731\u001b[0m     \u001b[38;5;28;01melse\u001b[39;00m:\n\u001b[1;32m--> 732\u001b[0m         estimator\u001b[38;5;241m.\u001b[39mfit(X_train, y_train, \u001b[38;5;241m*\u001b[39m\u001b[38;5;241m*\u001b[39mfit_params)\n\u001b[0;32m    734\u001b[0m \u001b[38;5;28;01mexcept\u001b[39;00m \u001b[38;5;167;01mException\u001b[39;00m:\n\u001b[0;32m    735\u001b[0m     \u001b[38;5;66;03m# Note fit time as time until error\u001b[39;00m\n\u001b[0;32m    736\u001b[0m     fit_time \u001b[38;5;241m=\u001b[39m time\u001b[38;5;241m.\u001b[39mtime() \u001b[38;5;241m-\u001b[39m start_time\n",
      "File \u001b[1;32mc:\\Users\\elkan\\anaconda3\\envs\\ml_b\\lib\\site-packages\\xgboost\\core.py:620\u001b[0m, in \u001b[0;36mrequire_keyword_args.<locals>.throw_if.<locals>.inner_f\u001b[1;34m(*args, **kwargs)\u001b[0m\n\u001b[0;32m    618\u001b[0m \u001b[38;5;28;01mfor\u001b[39;00m k, arg \u001b[38;5;129;01min\u001b[39;00m \u001b[38;5;28mzip\u001b[39m(sig\u001b[38;5;241m.\u001b[39mparameters, args):\n\u001b[0;32m    619\u001b[0m     kwargs[k] \u001b[38;5;241m=\u001b[39m arg\n\u001b[1;32m--> 620\u001b[0m \u001b[38;5;28;01mreturn\u001b[39;00m func(\u001b[38;5;241m*\u001b[39m\u001b[38;5;241m*\u001b[39mkwargs)\n",
      "File \u001b[1;32mc:\\Users\\elkan\\anaconda3\\envs\\ml_b\\lib\\site-packages\\xgboost\\sklearn.py:1490\u001b[0m, in \u001b[0;36mXGBClassifier.fit\u001b[1;34m(self, X, y, sample_weight, base_margin, eval_set, eval_metric, early_stopping_rounds, verbose, xgb_model, sample_weight_eval_set, base_margin_eval_set, feature_weights, callbacks)\u001b[0m\n\u001b[0;32m   1462\u001b[0m (\n\u001b[0;32m   1463\u001b[0m     model,\n\u001b[0;32m   1464\u001b[0m     metric,\n\u001b[1;32m   (...)\u001b[0m\n\u001b[0;32m   1469\u001b[0m     xgb_model, eval_metric, params, early_stopping_rounds, callbacks\n\u001b[0;32m   1470\u001b[0m )\n\u001b[0;32m   1471\u001b[0m train_dmatrix, evals \u001b[38;5;241m=\u001b[39m _wrap_evaluation_matrices(\n\u001b[0;32m   1472\u001b[0m     missing\u001b[38;5;241m=\u001b[39m\u001b[38;5;28mself\u001b[39m\u001b[38;5;241m.\u001b[39mmissing,\n\u001b[0;32m   1473\u001b[0m     X\u001b[38;5;241m=\u001b[39mX,\n\u001b[1;32m   (...)\u001b[0m\n\u001b[0;32m   1487\u001b[0m     feature_types\u001b[38;5;241m=\u001b[39m\u001b[38;5;28mself\u001b[39m\u001b[38;5;241m.\u001b[39mfeature_types,\n\u001b[0;32m   1488\u001b[0m )\n\u001b[1;32m-> 1490\u001b[0m \u001b[38;5;28mself\u001b[39m\u001b[38;5;241m.\u001b[39m_Booster \u001b[38;5;241m=\u001b[39m \u001b[43mtrain\u001b[49m\u001b[43m(\u001b[49m\n\u001b[0;32m   1491\u001b[0m \u001b[43m    \u001b[49m\u001b[43mparams\u001b[49m\u001b[43m,\u001b[49m\n\u001b[0;32m   1492\u001b[0m \u001b[43m    \u001b[49m\u001b[43mtrain_dmatrix\u001b[49m\u001b[43m,\u001b[49m\n\u001b[0;32m   1493\u001b[0m \u001b[43m    \u001b[49m\u001b[38;5;28;43mself\u001b[39;49m\u001b[38;5;241;43m.\u001b[39;49m\u001b[43mget_num_boosting_rounds\u001b[49m\u001b[43m(\u001b[49m\u001b[43m)\u001b[49m\u001b[43m,\u001b[49m\n\u001b[0;32m   1494\u001b[0m \u001b[43m    \u001b[49m\u001b[43mevals\u001b[49m\u001b[38;5;241;43m=\u001b[39;49m\u001b[43mevals\u001b[49m\u001b[43m,\u001b[49m\n\u001b[0;32m   1495\u001b[0m \u001b[43m    \u001b[49m\u001b[43mearly_stopping_rounds\u001b[49m\u001b[38;5;241;43m=\u001b[39;49m\u001b[43mearly_stopping_rounds\u001b[49m\u001b[43m,\u001b[49m\n\u001b[0;32m   1496\u001b[0m \u001b[43m    \u001b[49m\u001b[43mevals_result\u001b[49m\u001b[38;5;241;43m=\u001b[39;49m\u001b[43mevals_result\u001b[49m\u001b[43m,\u001b[49m\n\u001b[0;32m   1497\u001b[0m \u001b[43m    \u001b[49m\u001b[43mobj\u001b[49m\u001b[38;5;241;43m=\u001b[39;49m\u001b[43mobj\u001b[49m\u001b[43m,\u001b[49m\n\u001b[0;32m   1498\u001b[0m \u001b[43m    \u001b[49m\u001b[43mcustom_metric\u001b[49m\u001b[38;5;241;43m=\u001b[39;49m\u001b[43mmetric\u001b[49m\u001b[43m,\u001b[49m\n\u001b[0;32m   1499\u001b[0m \u001b[43m    \u001b[49m\u001b[43mverbose_eval\u001b[49m\u001b[38;5;241;43m=\u001b[39;49m\u001b[43mverbose\u001b[49m\u001b[43m,\u001b[49m\n\u001b[0;32m   1500\u001b[0m \u001b[43m    \u001b[49m\u001b[43mxgb_model\u001b[49m\u001b[38;5;241;43m=\u001b[39;49m\u001b[43mmodel\u001b[49m\u001b[43m,\u001b[49m\n\u001b[0;32m   1501\u001b[0m \u001b[43m    \u001b[49m\u001b[43mcallbacks\u001b[49m\u001b[38;5;241;43m=\u001b[39;49m\u001b[43mcallbacks\u001b[49m\u001b[43m,\u001b[49m\n\u001b[0;32m   1502\u001b[0m \u001b[43m\u001b[49m\u001b[43m)\u001b[49m\n\u001b[0;32m   1504\u001b[0m \u001b[38;5;28;01mif\u001b[39;00m \u001b[38;5;129;01mnot\u001b[39;00m \u001b[38;5;28mcallable\u001b[39m(\u001b[38;5;28mself\u001b[39m\u001b[38;5;241m.\u001b[39mobjective):\n\u001b[0;32m   1505\u001b[0m     \u001b[38;5;28mself\u001b[39m\u001b[38;5;241m.\u001b[39mobjective \u001b[38;5;241m=\u001b[39m params[\u001b[38;5;124m\"\u001b[39m\u001b[38;5;124mobjective\u001b[39m\u001b[38;5;124m\"\u001b[39m]\n",
      "File \u001b[1;32mc:\\Users\\elkan\\anaconda3\\envs\\ml_b\\lib\\site-packages\\xgboost\\core.py:620\u001b[0m, in \u001b[0;36mrequire_keyword_args.<locals>.throw_if.<locals>.inner_f\u001b[1;34m(*args, **kwargs)\u001b[0m\n\u001b[0;32m    618\u001b[0m \u001b[38;5;28;01mfor\u001b[39;00m k, arg \u001b[38;5;129;01min\u001b[39;00m \u001b[38;5;28mzip\u001b[39m(sig\u001b[38;5;241m.\u001b[39mparameters, args):\n\u001b[0;32m    619\u001b[0m     kwargs[k] \u001b[38;5;241m=\u001b[39m arg\n\u001b[1;32m--> 620\u001b[0m \u001b[38;5;28;01mreturn\u001b[39;00m func(\u001b[38;5;241m*\u001b[39m\u001b[38;5;241m*\u001b[39mkwargs)\n",
      "File \u001b[1;32mc:\\Users\\elkan\\anaconda3\\envs\\ml_b\\lib\\site-packages\\xgboost\\training.py:185\u001b[0m, in \u001b[0;36mtrain\u001b[1;34m(params, dtrain, num_boost_round, evals, obj, feval, maximize, early_stopping_rounds, evals_result, verbose_eval, xgb_model, callbacks, custom_metric)\u001b[0m\n\u001b[0;32m    183\u001b[0m \u001b[38;5;28;01mif\u001b[39;00m cb_container\u001b[38;5;241m.\u001b[39mbefore_iteration(bst, i, dtrain, evals):\n\u001b[0;32m    184\u001b[0m     \u001b[38;5;28;01mbreak\u001b[39;00m\n\u001b[1;32m--> 185\u001b[0m \u001b[43mbst\u001b[49m\u001b[38;5;241;43m.\u001b[39;49m\u001b[43mupdate\u001b[49m\u001b[43m(\u001b[49m\u001b[43mdtrain\u001b[49m\u001b[43m,\u001b[49m\u001b[43m \u001b[49m\u001b[43mi\u001b[49m\u001b[43m,\u001b[49m\u001b[43m \u001b[49m\u001b[43mobj\u001b[49m\u001b[43m)\u001b[49m\n\u001b[0;32m    186\u001b[0m \u001b[38;5;28;01mif\u001b[39;00m cb_container\u001b[38;5;241m.\u001b[39mafter_iteration(bst, i, dtrain, evals):\n\u001b[0;32m    187\u001b[0m     \u001b[38;5;28;01mbreak\u001b[39;00m\n",
      "File \u001b[1;32mc:\\Users\\elkan\\anaconda3\\envs\\ml_b\\lib\\site-packages\\xgboost\\core.py:1918\u001b[0m, in \u001b[0;36mBooster.update\u001b[1;34m(self, dtrain, iteration, fobj)\u001b[0m\n\u001b[0;32m   1915\u001b[0m \u001b[38;5;28mself\u001b[39m\u001b[38;5;241m.\u001b[39m_validate_dmatrix_features(dtrain)\n\u001b[0;32m   1917\u001b[0m \u001b[38;5;28;01mif\u001b[39;00m fobj \u001b[38;5;129;01mis\u001b[39;00m \u001b[38;5;28;01mNone\u001b[39;00m:\n\u001b[1;32m-> 1918\u001b[0m     _check_call(\u001b[43m_LIB\u001b[49m\u001b[38;5;241;43m.\u001b[39;49m\u001b[43mXGBoosterUpdateOneIter\u001b[49m\u001b[43m(\u001b[49m\u001b[38;5;28;43mself\u001b[39;49m\u001b[38;5;241;43m.\u001b[39;49m\u001b[43mhandle\u001b[49m\u001b[43m,\u001b[49m\n\u001b[0;32m   1919\u001b[0m \u001b[43m                                            \u001b[49m\u001b[43mctypes\u001b[49m\u001b[38;5;241;43m.\u001b[39;49m\u001b[43mc_int\u001b[49m\u001b[43m(\u001b[49m\u001b[43miteration\u001b[49m\u001b[43m)\u001b[49m\u001b[43m,\u001b[49m\n\u001b[0;32m   1920\u001b[0m \u001b[43m                                            \u001b[49m\u001b[43mdtrain\u001b[49m\u001b[38;5;241;43m.\u001b[39;49m\u001b[43mhandle\u001b[49m\u001b[43m)\u001b[49m)\n\u001b[0;32m   1921\u001b[0m \u001b[38;5;28;01melse\u001b[39;00m:\n\u001b[0;32m   1922\u001b[0m     pred \u001b[38;5;241m=\u001b[39m \u001b[38;5;28mself\u001b[39m\u001b[38;5;241m.\u001b[39mpredict(dtrain, output_margin\u001b[38;5;241m=\u001b[39m\u001b[38;5;28;01mTrue\u001b[39;00m, training\u001b[38;5;241m=\u001b[39m\u001b[38;5;28;01mTrue\u001b[39;00m)\n",
      "\u001b[1;31mKeyboardInterrupt\u001b[0m: "
     ]
    }
   ],
   "source": [
    "# Prepare grid search\n",
    "grid_search = GridSearchCV(estimator=xgb_model, param_grid=param_grid, scoring='f1_macro', cv=3)\n",
    "\n",
    "# Fit the grid search to the data\n",
    "grid_search.fit(X_train_scaled, y_train)"
   ]
  },
  {
   "cell_type": "markdown",
   "metadata": {},
   "source": [
    "De ce grid search, nous obtenons le meilleur ensemble d'hyperparamètre et nous définissons le modèle final:"
   ]
  },
  {
   "cell_type": "code",
   "execution_count": null,
   "metadata": {},
   "outputs": [],
   "source": [
    "# Print the best hyperparameters\n",
    "print(\"Best Hyperparameters:\", grid_search.best_params_)\n",
    "\n",
    "# define model final\n",
    "model_final = grid_search.best_estimator_"
   ]
  },
  {
   "cell_type": "markdown",
   "metadata": {},
   "source": [
    "Enfin, nous pouvons définir notre modèle final: "
   ]
  },
  {
   "cell_type": "code",
   "execution_count": 69,
   "metadata": {},
   "outputs": [],
   "source": [
    "model_final = xgb.XGBClassifier(\n",
    "    min_child_weight=5, \n",
    "    gamma=0.5, \n",
    "    subsample=0.8, \n",
    "    colsample_bytree=0.8,\n",
    "    max_depth=9,\n",
    "    random_state=42\n",
    ")"
   ]
  },
  {
   "cell_type": "markdown",
   "metadata": {},
   "source": [
    "### 5. Evaluation finale "
   ]
  },
  {
   "cell_type": "markdown",
   "metadata": {},
   "source": [
    "Tout d'abord, nous allons pouvoir entraîner notre nouveau modèle et effectuer des prédictions: "
   ]
  },
  {
   "cell_type": "code",
   "execution_count": 70,
   "metadata": {},
   "outputs": [],
   "source": [
    "model_final.fit(X_train_scaled, y_train)\n",
    "y_pred = model_final.predict(X_test_scaled)"
   ]
  },
  {
   "cell_type": "markdown",
   "metadata": {},
   "source": [
    "Enfin, nous allons mesurer la performance finale sur le testset: "
   ]
  },
  {
   "cell_type": "code",
   "execution_count": 71,
   "metadata": {},
   "outputs": [
    {
     "name": "stdout",
     "output_type": "stream",
     "text": [
      "Accuracy of final modedl:  0.8464708912931479\n",
      "F1 score of final model:  0.6884856309563634\n"
     ]
    }
   ],
   "source": [
    "accuracy = accuracy_score(y_test, y_pred)\n",
    "f1 = f1_score(y_test, y_pred, average='macro')\n",
    "\n",
    "print(\"Accuracy of final modedl: \", accuracy)\n",
    "print(\"F1 score of final model: \", f1)"
   ]
  },
  {
   "cell_type": "markdown",
   "metadata": {},
   "source": [
    "To remove"
   ]
  },
  {
   "cell_type": "code",
   "execution_count": 55,
   "metadata": {},
   "outputs": [
    {
     "name": "stdout",
     "output_type": "stream",
     "text": [
      "Accuracy of final modedl:  0.8459556929417826\n",
      "F1 score of final model:  0.6799455715478425\n"
     ]
    }
   ],
   "source": [
    "baseline = xgb_classifier = xgb.XGBClassifier(\n",
    "    objective='multi:softmax',  # For multiclass classification\n",
    "    num_class=len(set(y_train)),  # Number of classes\n",
    "    max_depth=9, \n",
    "    min_child_weight=9, \n",
    "    eta=0.25, \n",
    "    random_state=42\n",
    ")\n",
    "\n",
    "baseline.fit(X_train_scaled, y_train)\n",
    "y_pred = baseline.predict(X_test_scaled)\n",
    "\n",
    "accuracy = accuracy_score(y_test, y_pred)\n",
    "f1 = f1_score(y_test, y_pred, average='macro')\n",
    "\n",
    "print(\"Accuracy of final modedl: \", accuracy)\n",
    "print(\"F1 score of final model: \", f1)"
   ]
  }
 ],
 "metadata": {
  "kernelspec": {
   "display_name": "ml_b",
   "language": "python",
   "name": "python3"
  },
  "language_info": {
   "codemirror_mode": {
    "name": "ipython",
    "version": 3
   },
   "file_extension": ".py",
   "mimetype": "text/x-python",
   "name": "python",
   "nbconvert_exporter": "python",
   "pygments_lexer": "ipython3",
   "version": "3.9.16"
  }
 },
 "nbformat": 4,
 "nbformat_minor": 2
}
