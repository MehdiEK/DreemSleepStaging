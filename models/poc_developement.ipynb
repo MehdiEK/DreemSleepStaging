{
 "cells": [
  {
   "cell_type": "code",
   "execution_count": 24,
   "metadata": {},
   "outputs": [],
   "source": [
    "import pandas as pd \n",
    "import numpy as np \n",
    "import matplotlib.pyplot as plt \n",
    "import xgboost as xgb\n",
    "\n",
    "from sklearn.preprocessing import StandardScaler\n",
    "from sklearn.decomposition import PCA\n",
    "from sklearn.model_selection import train_test_split, cross_val_score\n",
    "from sklearn.metrics import f1_score, accuracy_score\n",
    "from sklearn.ensemble import RandomForestClassifier"
   ]
  },
  {
   "cell_type": "markdown",
   "metadata": {},
   "source": [
    "### Load data"
   ]
  },
  {
   "cell_type": "markdown",
   "metadata": {},
   "source": [
    "Load dataset prepared using basic transfromation of signals. "
   ]
  },
  {
   "cell_type": "code",
   "execution_count": 3,
   "metadata": {},
   "outputs": [
    {
     "name": "stdout",
     "output_type": "stream",
     "text": [
      "<class 'pandas.core.frame.DataFrame'>\n",
      "Float64Index: 6173 entries, 0.0 to 60911.0\n",
      "Columns: 169 entries, Max_freq_First_EEG to target\n",
      "dtypes: float64(168), int64(1)\n",
      "memory usage: 8.0 MB\n"
     ]
    }
   ],
   "source": [
    "df = pd.read_csv(\"./../data/prepared/prepared_basic.csv\", index_col=\"identifier\")\n",
    "df.info()"
   ]
  },
  {
   "cell_type": "code",
   "execution_count": 4,
   "metadata": {},
   "outputs": [
    {
     "data": {
      "text/html": [
       "<div>\n",
       "<style scoped>\n",
       "    .dataframe tbody tr th:only-of-type {\n",
       "        vertical-align: middle;\n",
       "    }\n",
       "\n",
       "    .dataframe tbody tr th {\n",
       "        vertical-align: top;\n",
       "    }\n",
       "\n",
       "    .dataframe thead th {\n",
       "        text-align: right;\n",
       "    }\n",
       "</style>\n",
       "<table border=\"1\" class=\"dataframe\">\n",
       "  <thead>\n",
       "    <tr style=\"text-align: right;\">\n",
       "      <th></th>\n",
       "      <th>Max_freq_First_EEG</th>\n",
       "      <th>Sum_freq_First_EEG</th>\n",
       "      <th>Mean_freq_First_EEG</th>\n",
       "      <th>Var_freq_First_EEG</th>\n",
       "      <th>Peak_freq_First_EEG</th>\n",
       "      <th>Skew_freq_First_EEG</th>\n",
       "      <th>Kurtosis_freq_First_EEG</th>\n",
       "      <th>mean_First_EEG</th>\n",
       "      <th>min_First_EEG</th>\n",
       "      <th>max_First_EEG</th>\n",
       "      <th>...</th>\n",
       "      <th>Rms_Z_axis</th>\n",
       "      <th>Power_Z_axis</th>\n",
       "      <th>Peak_Z_axis</th>\n",
       "      <th>PTP_Z_axis</th>\n",
       "      <th>CrestFactor_Z_axis</th>\n",
       "      <th>Skew_Z_axis</th>\n",
       "      <th>Kurtosis_Z_axis</th>\n",
       "      <th>FormFactor_Z_axis</th>\n",
       "      <th>PulseIndiicator_Z_axis</th>\n",
       "      <th>target</th>\n",
       "    </tr>\n",
       "    <tr>\n",
       "      <th>identifier</th>\n",
       "      <th></th>\n",
       "      <th></th>\n",
       "      <th></th>\n",
       "      <th></th>\n",
       "      <th></th>\n",
       "      <th></th>\n",
       "      <th></th>\n",
       "      <th></th>\n",
       "      <th></th>\n",
       "      <th></th>\n",
       "      <th></th>\n",
       "      <th></th>\n",
       "      <th></th>\n",
       "      <th></th>\n",
       "      <th></th>\n",
       "      <th></th>\n",
       "      <th></th>\n",
       "      <th></th>\n",
       "      <th></th>\n",
       "      <th></th>\n",
       "      <th></th>\n",
       "    </tr>\n",
       "  </thead>\n",
       "  <tbody>\n",
       "    <tr>\n",
       "      <th>0.0</th>\n",
       "      <td>4.897655e+06</td>\n",
       "      <td>7.435633e+07</td>\n",
       "      <td>9914.177999</td>\n",
       "      <td>1.493854e+10</td>\n",
       "      <td>4.897655e+06</td>\n",
       "      <td>24.652159</td>\n",
       "      <td>799.455877</td>\n",
       "      <td>-2.231333</td>\n",
       "      <td>-482.286896</td>\n",
       "      <td>642.120239</td>\n",
       "      <td>...</td>\n",
       "      <td>0.005207</td>\n",
       "      <td>0.000027</td>\n",
       "      <td>0.016703</td>\n",
       "      <td>0.029954</td>\n",
       "      <td>3.207928</td>\n",
       "      <td>0.662471</td>\n",
       "      <td>1.400366</td>\n",
       "      <td>75.092132</td>\n",
       "      <td>240.890145</td>\n",
       "      <td>0</td>\n",
       "    </tr>\n",
       "    <tr>\n",
       "      <th>1.0</th>\n",
       "      <td>2.327903e+06</td>\n",
       "      <td>5.202239e+07</td>\n",
       "      <td>6936.318869</td>\n",
       "      <td>5.205112e+09</td>\n",
       "      <td>2.327903e+06</td>\n",
       "      <td>17.679821</td>\n",
       "      <td>405.649139</td>\n",
       "      <td>0.971973</td>\n",
       "      <td>-344.952515</td>\n",
       "      <td>418.611664</td>\n",
       "      <td>...</td>\n",
       "      <td>0.030240</td>\n",
       "      <td>0.000914</td>\n",
       "      <td>0.121454</td>\n",
       "      <td>0.186319</td>\n",
       "      <td>4.016346</td>\n",
       "      <td>1.529461</td>\n",
       "      <td>5.441694</td>\n",
       "      <td>-141.701947</td>\n",
       "      <td>-569.124086</td>\n",
       "      <td>0</td>\n",
       "    </tr>\n",
       "    <tr>\n",
       "      <th>2.0</th>\n",
       "      <td>1.152274e+06</td>\n",
       "      <td>4.648923e+07</td>\n",
       "      <td>6198.563657</td>\n",
       "      <td>2.830893e+09</td>\n",
       "      <td>1.152274e+06</td>\n",
       "      <td>12.903734</td>\n",
       "      <td>200.402913</td>\n",
       "      <td>0.009201</td>\n",
       "      <td>-272.113434</td>\n",
       "      <td>835.612976</td>\n",
       "      <td>...</td>\n",
       "      <td>0.008449</td>\n",
       "      <td>0.000071</td>\n",
       "      <td>0.038747</td>\n",
       "      <td>0.056668</td>\n",
       "      <td>4.585957</td>\n",
       "      <td>1.237417</td>\n",
       "      <td>5.403179</td>\n",
       "      <td>37.821384</td>\n",
       "      <td>173.447231</td>\n",
       "      <td>0</td>\n",
       "    </tr>\n",
       "    <tr>\n",
       "      <th>3.0</th>\n",
       "      <td>1.949074e+06</td>\n",
       "      <td>5.940327e+07</td>\n",
       "      <td>7920.435792</td>\n",
       "      <td>6.248728e+09</td>\n",
       "      <td>1.949074e+06</td>\n",
       "      <td>16.556910</td>\n",
       "      <td>315.882635</td>\n",
       "      <td>-0.060141</td>\n",
       "      <td>-363.219391</td>\n",
       "      <td>302.055908</td>\n",
       "      <td>...</td>\n",
       "      <td>0.084393</td>\n",
       "      <td>0.007122</td>\n",
       "      <td>0.223697</td>\n",
       "      <td>0.422125</td>\n",
       "      <td>2.650647</td>\n",
       "      <td>-0.456333</td>\n",
       "      <td>0.276363</td>\n",
       "      <td>-57.398587</td>\n",
       "      <td>-152.143402</td>\n",
       "      <td>0</td>\n",
       "    </tr>\n",
       "    <tr>\n",
       "      <th>4.0</th>\n",
       "      <td>7.260203e+07</td>\n",
       "      <td>1.427667e+09</td>\n",
       "      <td>190355.567491</td>\n",
       "      <td>5.501804e+12</td>\n",
       "      <td>7.260203e+07</td>\n",
       "      <td>19.725836</td>\n",
       "      <td>465.537184</td>\n",
       "      <td>0.313686</td>\n",
       "      <td>-1949.282471</td>\n",
       "      <td>2986.843018</td>\n",
       "      <td>...</td>\n",
       "      <td>0.052034</td>\n",
       "      <td>0.002708</td>\n",
       "      <td>0.183920</td>\n",
       "      <td>0.297231</td>\n",
       "      <td>3.534590</td>\n",
       "      <td>-1.039427</td>\n",
       "      <td>2.997090</td>\n",
       "      <td>34.708235</td>\n",
       "      <td>122.679384</td>\n",
       "      <td>0</td>\n",
       "    </tr>\n",
       "  </tbody>\n",
       "</table>\n",
       "<p>5 rows × 169 columns</p>\n",
       "</div>"
      ],
      "text/plain": [
       "            Max_freq_First_EEG  Sum_freq_First_EEG  Mean_freq_First_EEG  \\\n",
       "identifier                                                                \n",
       "0.0               4.897655e+06        7.435633e+07          9914.177999   \n",
       "1.0               2.327903e+06        5.202239e+07          6936.318869   \n",
       "2.0               1.152274e+06        4.648923e+07          6198.563657   \n",
       "3.0               1.949074e+06        5.940327e+07          7920.435792   \n",
       "4.0               7.260203e+07        1.427667e+09        190355.567491   \n",
       "\n",
       "            Var_freq_First_EEG  Peak_freq_First_EEG  Skew_freq_First_EEG  \\\n",
       "identifier                                                                 \n",
       "0.0               1.493854e+10         4.897655e+06            24.652159   \n",
       "1.0               5.205112e+09         2.327903e+06            17.679821   \n",
       "2.0               2.830893e+09         1.152274e+06            12.903734   \n",
       "3.0               6.248728e+09         1.949074e+06            16.556910   \n",
       "4.0               5.501804e+12         7.260203e+07            19.725836   \n",
       "\n",
       "            Kurtosis_freq_First_EEG  mean_First_EEG  min_First_EEG  \\\n",
       "identifier                                                           \n",
       "0.0                      799.455877       -2.231333    -482.286896   \n",
       "1.0                      405.649139        0.971973    -344.952515   \n",
       "2.0                      200.402913        0.009201    -272.113434   \n",
       "3.0                      315.882635       -0.060141    -363.219391   \n",
       "4.0                      465.537184        0.313686   -1949.282471   \n",
       "\n",
       "            max_First_EEG  ...  Rms_Z_axis  Power_Z_axis  Peak_Z_axis  \\\n",
       "identifier                 ...                                          \n",
       "0.0            642.120239  ...    0.005207      0.000027     0.016703   \n",
       "1.0            418.611664  ...    0.030240      0.000914     0.121454   \n",
       "2.0            835.612976  ...    0.008449      0.000071     0.038747   \n",
       "3.0            302.055908  ...    0.084393      0.007122     0.223697   \n",
       "4.0           2986.843018  ...    0.052034      0.002708     0.183920   \n",
       "\n",
       "            PTP_Z_axis  CrestFactor_Z_axis  Skew_Z_axis  Kurtosis_Z_axis  \\\n",
       "identifier                                                                 \n",
       "0.0           0.029954            3.207928     0.662471         1.400366   \n",
       "1.0           0.186319            4.016346     1.529461         5.441694   \n",
       "2.0           0.056668            4.585957     1.237417         5.403179   \n",
       "3.0           0.422125            2.650647    -0.456333         0.276363   \n",
       "4.0           0.297231            3.534590    -1.039427         2.997090   \n",
       "\n",
       "            FormFactor_Z_axis  PulseIndiicator_Z_axis  target  \n",
       "identifier                                                     \n",
       "0.0                 75.092132              240.890145       0  \n",
       "1.0               -141.701947             -569.124086       0  \n",
       "2.0                 37.821384              173.447231       0  \n",
       "3.0                -57.398587             -152.143402       0  \n",
       "4.0                 34.708235              122.679384       0  \n",
       "\n",
       "[5 rows x 169 columns]"
      ]
     },
     "execution_count": 4,
     "metadata": {},
     "output_type": "execute_result"
    }
   ],
   "source": [
    "df.head()"
   ]
  },
  {
   "cell_type": "markdown",
   "metadata": {},
   "source": [
    "### Prepare data for modelling"
   ]
  },
  {
   "cell_type": "markdown",
   "metadata": {},
   "source": [
    "Isolate a test set for future final model. "
   ]
  },
  {
   "cell_type": "code",
   "execution_count": 5,
   "metadata": {},
   "outputs": [],
   "source": [
    "# define features and target\n",
    "y = df.target\n",
    "X = df.drop(\"target\", axis=1)\n",
    "\n",
    "# separate train and test split \n",
    "X_train, X_test, y_train, y_test = train_test_split(X, y, \n",
    "                                                    test_size=0.2, \n",
    "                                                    stratify=y, \n",
    "                                                    random_state=456)"
   ]
  },
  {
   "cell_type": "markdown",
   "metadata": {},
   "source": [
    "Now values will be scaled using standard scaler:"
   ]
  },
  {
   "cell_type": "code",
   "execution_count": 6,
   "metadata": {},
   "outputs": [],
   "source": [
    "# define scaler\n",
    "scaler = StandardScaler(with_std=True)\n",
    "\n",
    "# scale train and test sets\n",
    "scaler.fit(X_train)\n",
    "X_train_scaled = pd.DataFrame(scaler.transform(X_train), columns=X_train.columns)\n",
    "X_test_scaled = pd.DataFrame(scaler.transform(X_test), columns=X_test.columns)"
   ]
  },
  {
   "cell_type": "code",
   "execution_count": 7,
   "metadata": {},
   "outputs": [
    {
     "data": {
      "text/html": [
       "<div>\n",
       "<style scoped>\n",
       "    .dataframe tbody tr th:only-of-type {\n",
       "        vertical-align: middle;\n",
       "    }\n",
       "\n",
       "    .dataframe tbody tr th {\n",
       "        vertical-align: top;\n",
       "    }\n",
       "\n",
       "    .dataframe thead th {\n",
       "        text-align: right;\n",
       "    }\n",
       "</style>\n",
       "<table border=\"1\" class=\"dataframe\">\n",
       "  <thead>\n",
       "    <tr style=\"text-align: right;\">\n",
       "      <th></th>\n",
       "      <th>Max_freq_First_EEG</th>\n",
       "      <th>Sum_freq_First_EEG</th>\n",
       "      <th>Mean_freq_First_EEG</th>\n",
       "      <th>Var_freq_First_EEG</th>\n",
       "      <th>Peak_freq_First_EEG</th>\n",
       "      <th>Skew_freq_First_EEG</th>\n",
       "      <th>Kurtosis_freq_First_EEG</th>\n",
       "      <th>mean_First_EEG</th>\n",
       "      <th>min_First_EEG</th>\n",
       "      <th>max_First_EEG</th>\n",
       "      <th>...</th>\n",
       "      <th>var_Z_axis</th>\n",
       "      <th>Rms_Z_axis</th>\n",
       "      <th>Power_Z_axis</th>\n",
       "      <th>Peak_Z_axis</th>\n",
       "      <th>PTP_Z_axis</th>\n",
       "      <th>CrestFactor_Z_axis</th>\n",
       "      <th>Skew_Z_axis</th>\n",
       "      <th>Kurtosis_Z_axis</th>\n",
       "      <th>FormFactor_Z_axis</th>\n",
       "      <th>PulseIndiicator_Z_axis</th>\n",
       "    </tr>\n",
       "  </thead>\n",
       "  <tbody>\n",
       "    <tr>\n",
       "      <th>0</th>\n",
       "      <td>-0.034482</td>\n",
       "      <td>-0.035511</td>\n",
       "      <td>-0.035511</td>\n",
       "      <td>-0.022873</td>\n",
       "      <td>-0.034482</td>\n",
       "      <td>0.000189</td>\n",
       "      <td>-0.265600</td>\n",
       "      <td>-0.019077</td>\n",
       "      <td>0.051495</td>\n",
       "      <td>-0.055258</td>\n",
       "      <td>...</td>\n",
       "      <td>-0.148374</td>\n",
       "      <td>-0.286391</td>\n",
       "      <td>-0.148348</td>\n",
       "      <td>-0.270990</td>\n",
       "      <td>-0.274427</td>\n",
       "      <td>-0.304337</td>\n",
       "      <td>-0.968674</td>\n",
       "      <td>-0.418411</td>\n",
       "      <td>-0.033730</td>\n",
       "      <td>-0.036670</td>\n",
       "    </tr>\n",
       "    <tr>\n",
       "      <th>1</th>\n",
       "      <td>-0.034486</td>\n",
       "      <td>-0.035512</td>\n",
       "      <td>-0.035512</td>\n",
       "      <td>-0.022873</td>\n",
       "      <td>-0.034486</td>\n",
       "      <td>-0.762257</td>\n",
       "      <td>-0.697739</td>\n",
       "      <td>0.005142</td>\n",
       "      <td>0.055868</td>\n",
       "      <td>-0.058924</td>\n",
       "      <td>...</td>\n",
       "      <td>-0.146336</td>\n",
       "      <td>-0.197569</td>\n",
       "      <td>-0.146316</td>\n",
       "      <td>-0.211133</td>\n",
       "      <td>-0.222454</td>\n",
       "      <td>-0.040378</td>\n",
       "      <td>0.937786</td>\n",
       "      <td>-0.293352</td>\n",
       "      <td>-0.053153</td>\n",
       "      <td>-0.059665</td>\n",
       "    </tr>\n",
       "    <tr>\n",
       "      <th>2</th>\n",
       "      <td>-0.034485</td>\n",
       "      <td>-0.035512</td>\n",
       "      <td>-0.035512</td>\n",
       "      <td>-0.022873</td>\n",
       "      <td>-0.034485</td>\n",
       "      <td>0.396197</td>\n",
       "      <td>0.243951</td>\n",
       "      <td>0.012576</td>\n",
       "      <td>0.055301</td>\n",
       "      <td>-0.058475</td>\n",
       "      <td>...</td>\n",
       "      <td>-0.148196</td>\n",
       "      <td>-0.272402</td>\n",
       "      <td>-0.148169</td>\n",
       "      <td>-0.266015</td>\n",
       "      <td>-0.264437</td>\n",
       "      <td>-0.601481</td>\n",
       "      <td>-0.299304</td>\n",
       "      <td>-0.414406</td>\n",
       "      <td>-0.010922</td>\n",
       "      <td>-0.014236</td>\n",
       "    </tr>\n",
       "    <tr>\n",
       "      <th>3</th>\n",
       "      <td>-0.034486</td>\n",
       "      <td>-0.035512</td>\n",
       "      <td>-0.035512</td>\n",
       "      <td>-0.022873</td>\n",
       "      <td>-0.034486</td>\n",
       "      <td>-0.621065</td>\n",
       "      <td>-0.644790</td>\n",
       "      <td>-0.006494</td>\n",
       "      <td>0.055679</td>\n",
       "      <td>-0.058537</td>\n",
       "      <td>...</td>\n",
       "      <td>-0.142619</td>\n",
       "      <td>-0.115789</td>\n",
       "      <td>-0.142572</td>\n",
       "      <td>-0.148428</td>\n",
       "      <td>-0.153338</td>\n",
       "      <td>0.181476</td>\n",
       "      <td>0.518129</td>\n",
       "      <td>-0.127517</td>\n",
       "      <td>-0.026084</td>\n",
       "      <td>-0.030163</td>\n",
       "    </tr>\n",
       "    <tr>\n",
       "      <th>4</th>\n",
       "      <td>-0.034486</td>\n",
       "      <td>-0.035512</td>\n",
       "      <td>-0.035512</td>\n",
       "      <td>-0.022873</td>\n",
       "      <td>-0.034486</td>\n",
       "      <td>-0.353796</td>\n",
       "      <td>-0.287183</td>\n",
       "      <td>0.001625</td>\n",
       "      <td>0.056109</td>\n",
       "      <td>-0.058910</td>\n",
       "      <td>...</td>\n",
       "      <td>-0.147455</td>\n",
       "      <td>-0.235069</td>\n",
       "      <td>-0.147432</td>\n",
       "      <td>-0.243729</td>\n",
       "      <td>-0.249591</td>\n",
       "      <td>-0.476840</td>\n",
       "      <td>0.739472</td>\n",
       "      <td>-0.455755</td>\n",
       "      <td>-0.224609</td>\n",
       "      <td>-0.218614</td>\n",
       "    </tr>\n",
       "  </tbody>\n",
       "</table>\n",
       "<p>5 rows × 168 columns</p>\n",
       "</div>"
      ],
      "text/plain": [
       "   Max_freq_First_EEG  Sum_freq_First_EEG  Mean_freq_First_EEG  \\\n",
       "0           -0.034482           -0.035511            -0.035511   \n",
       "1           -0.034486           -0.035512            -0.035512   \n",
       "2           -0.034485           -0.035512            -0.035512   \n",
       "3           -0.034486           -0.035512            -0.035512   \n",
       "4           -0.034486           -0.035512            -0.035512   \n",
       "\n",
       "   Var_freq_First_EEG  Peak_freq_First_EEG  Skew_freq_First_EEG  \\\n",
       "0           -0.022873            -0.034482             0.000189   \n",
       "1           -0.022873            -0.034486            -0.762257   \n",
       "2           -0.022873            -0.034485             0.396197   \n",
       "3           -0.022873            -0.034486            -0.621065   \n",
       "4           -0.022873            -0.034486            -0.353796   \n",
       "\n",
       "   Kurtosis_freq_First_EEG  mean_First_EEG  min_First_EEG  max_First_EEG  ...  \\\n",
       "0                -0.265600       -0.019077       0.051495      -0.055258  ...   \n",
       "1                -0.697739        0.005142       0.055868      -0.058924  ...   \n",
       "2                 0.243951        0.012576       0.055301      -0.058475  ...   \n",
       "3                -0.644790       -0.006494       0.055679      -0.058537  ...   \n",
       "4                -0.287183        0.001625       0.056109      -0.058910  ...   \n",
       "\n",
       "   var_Z_axis  Rms_Z_axis  Power_Z_axis  Peak_Z_axis  PTP_Z_axis  \\\n",
       "0   -0.148374   -0.286391     -0.148348    -0.270990   -0.274427   \n",
       "1   -0.146336   -0.197569     -0.146316    -0.211133   -0.222454   \n",
       "2   -0.148196   -0.272402     -0.148169    -0.266015   -0.264437   \n",
       "3   -0.142619   -0.115789     -0.142572    -0.148428   -0.153338   \n",
       "4   -0.147455   -0.235069     -0.147432    -0.243729   -0.249591   \n",
       "\n",
       "   CrestFactor_Z_axis  Skew_Z_axis  Kurtosis_Z_axis  FormFactor_Z_axis  \\\n",
       "0           -0.304337    -0.968674        -0.418411          -0.033730   \n",
       "1           -0.040378     0.937786        -0.293352          -0.053153   \n",
       "2           -0.601481    -0.299304        -0.414406          -0.010922   \n",
       "3            0.181476     0.518129        -0.127517          -0.026084   \n",
       "4           -0.476840     0.739472        -0.455755          -0.224609   \n",
       "\n",
       "   PulseIndiicator_Z_axis  \n",
       "0               -0.036670  \n",
       "1               -0.059665  \n",
       "2               -0.014236  \n",
       "3               -0.030163  \n",
       "4               -0.218614  \n",
       "\n",
       "[5 rows x 168 columns]"
      ]
     },
     "execution_count": 7,
     "metadata": {},
     "output_type": "execute_result"
    }
   ],
   "source": [
    "X_train_scaled.head()"
   ]
  },
  {
   "cell_type": "markdown",
   "metadata": {},
   "source": [
    "### PCA on each subcategory"
   ]
  },
  {
   "cell_type": "markdown",
   "metadata": {},
   "source": [
    "Now, the goal is to apply PCA to each categpory "
   ]
  },
  {
   "cell_type": "code",
   "execution_count": 8,
   "metadata": {},
   "outputs": [],
   "source": [
    "# define category\n",
    "category = {\n",
    "    \"First_EEG\": (1, 7501, 250), \n",
    "    \"Second_EEG\": (7501, 15001, 250), \n",
    "    \"Third_EEG\": (15001, 22501, 250), \n",
    "    \"Fourth_EEG\": (22501, 30001, 250), \n",
    "    \"Fifth_EEG\": (30001, 37501, 250), \n",
    "    \"X_axis\": (37501, 39001, 50), \n",
    "    \"Y_axis\": (39001, 40501, 50), \n",
    "    \"Z_axis\": (40501, 42001, 50) \n",
    "}"
   ]
  },
  {
   "cell_type": "code",
   "execution_count": 9,
   "metadata": {},
   "outputs": [],
   "source": [
    "# prepare PCA\n",
    "n_comp = 8\n",
    "PCA_per_category = {key: PCA(n_components=n_comp) for key in category.keys()}\n",
    "train_dataframes = []\n",
    "test_dataframes = []\n",
    "variance_ratio = {}\n",
    "\n",
    "for key, pca in PCA_per_category.items():\n",
    "    col_cat = [col for col in X_train_scaled if key in col]\n",
    "    X_cat_train = X_train_scaled[col_cat]\n",
    "    X_cat_test = X_test_scaled[col_cat]\n",
    "\n",
    "    X_cat_train_pca = pca.fit_transform(X_cat_train)\n",
    "    X_cat_test_pca = pca.transform(X_cat_test)\n",
    "\n",
    "    # transform into dataframe\n",
    "    columns = [f\"PC{i+1}_\" + key for i in range(n_comp)]\n",
    "    X_cat_train_pca = pd.DataFrame(data=X_cat_train_pca, columns=columns)\n",
    "    X_cat_test_pca = pd.DataFrame(data=X_cat_test_pca, columns=columns)\n",
    "\n",
    "    train_dataframes.append(X_cat_train_pca)\n",
    "    test_dataframes.append(X_cat_test_pca)\n",
    "\n",
    "    # Get explained variance ratio\n",
    "    variance_ratio[key] = np.cumsum(pca.explained_variance_ratio_)"
   ]
  },
  {
   "cell_type": "code",
   "execution_count": 10,
   "metadata": {},
   "outputs": [],
   "source": [
    "X_train_pca = pd.concat(train_dataframes, axis=1)\n",
    "X_test_pca = pd.concat(test_dataframes, axis=1)"
   ]
  },
  {
   "cell_type": "code",
   "execution_count": 11,
   "metadata": {},
   "outputs": [
    {
     "data": {
      "text/html": [
       "<div>\n",
       "<style scoped>\n",
       "    .dataframe tbody tr th:only-of-type {\n",
       "        vertical-align: middle;\n",
       "    }\n",
       "\n",
       "    .dataframe tbody tr th {\n",
       "        vertical-align: top;\n",
       "    }\n",
       "\n",
       "    .dataframe thead th {\n",
       "        text-align: right;\n",
       "    }\n",
       "</style>\n",
       "<table border=\"1\" class=\"dataframe\">\n",
       "  <thead>\n",
       "    <tr style=\"text-align: right;\">\n",
       "      <th></th>\n",
       "      <th>PC1_First_EEG</th>\n",
       "      <th>PC2_First_EEG</th>\n",
       "      <th>PC3_First_EEG</th>\n",
       "      <th>PC4_First_EEG</th>\n",
       "      <th>PC5_First_EEG</th>\n",
       "      <th>PC6_First_EEG</th>\n",
       "      <th>PC7_First_EEG</th>\n",
       "      <th>PC8_First_EEG</th>\n",
       "      <th>PC1_Second_EEG</th>\n",
       "      <th>PC2_Second_EEG</th>\n",
       "      <th>...</th>\n",
       "      <th>PC7_Y_axis</th>\n",
       "      <th>PC8_Y_axis</th>\n",
       "      <th>PC1_Z_axis</th>\n",
       "      <th>PC2_Z_axis</th>\n",
       "      <th>PC3_Z_axis</th>\n",
       "      <th>PC4_Z_axis</th>\n",
       "      <th>PC5_Z_axis</th>\n",
       "      <th>PC6_Z_axis</th>\n",
       "      <th>PC7_Z_axis</th>\n",
       "      <th>PC8_Z_axis</th>\n",
       "    </tr>\n",
       "  </thead>\n",
       "  <tbody>\n",
       "    <tr>\n",
       "      <th>0</th>\n",
       "      <td>-0.150877</td>\n",
       "      <td>0.037350</td>\n",
       "      <td>-0.007535</td>\n",
       "      <td>-0.196188</td>\n",
       "      <td>0.002084</td>\n",
       "      <td>-0.069064</td>\n",
       "      <td>-0.067898</td>\n",
       "      <td>-0.025034</td>\n",
       "      <td>-0.155442</td>\n",
       "      <td>-0.067549</td>\n",
       "      <td>...</td>\n",
       "      <td>-0.139054</td>\n",
       "      <td>0.066782</td>\n",
       "      <td>-1.007558</td>\n",
       "      <td>1.325004</td>\n",
       "      <td>-0.017092</td>\n",
       "      <td>-0.185793</td>\n",
       "      <td>-1.003692</td>\n",
       "      <td>0.307749</td>\n",
       "      <td>0.558632</td>\n",
       "      <td>-0.032831</td>\n",
       "    </tr>\n",
       "    <tr>\n",
       "      <th>1</th>\n",
       "      <td>-0.145712</td>\n",
       "      <td>0.397938</td>\n",
       "      <td>0.040181</td>\n",
       "      <td>-0.955734</td>\n",
       "      <td>-0.033457</td>\n",
       "      <td>-0.114857</td>\n",
       "      <td>-0.124686</td>\n",
       "      <td>-0.011585</td>\n",
       "      <td>-0.103413</td>\n",
       "      <td>1.358216</td>\n",
       "      <td>...</td>\n",
       "      <td>-0.508179</td>\n",
       "      <td>-0.219195</td>\n",
       "      <td>-0.526796</td>\n",
       "      <td>-0.502025</td>\n",
       "      <td>-0.079240</td>\n",
       "      <td>0.141162</td>\n",
       "      <td>1.052278</td>\n",
       "      <td>-0.348170</td>\n",
       "      <td>-0.508631</td>\n",
       "      <td>-0.080104</td>\n",
       "    </tr>\n",
       "    <tr>\n",
       "      <th>2</th>\n",
       "      <td>-0.177913</td>\n",
       "      <td>-0.560894</td>\n",
       "      <td>-0.017967</td>\n",
       "      <td>0.213555</td>\n",
       "      <td>-0.011478</td>\n",
       "      <td>-0.030643</td>\n",
       "      <td>-0.183411</td>\n",
       "      <td>0.032818</td>\n",
       "      <td>-0.179845</td>\n",
       "      <td>-0.546443</td>\n",
       "      <td>...</td>\n",
       "      <td>0.024068</td>\n",
       "      <td>-0.026915</td>\n",
       "      <td>-0.685713</td>\n",
       "      <td>-0.177671</td>\n",
       "      <td>-0.014895</td>\n",
       "      <td>-0.577356</td>\n",
       "      <td>0.709552</td>\n",
       "      <td>0.652135</td>\n",
       "      <td>-0.473790</td>\n",
       "      <td>0.128641</td>\n",
       "    </tr>\n",
       "    <tr>\n",
       "      <th>3</th>\n",
       "      <td>-0.150104</td>\n",
       "      <td>0.191066</td>\n",
       "      <td>0.042441</td>\n",
       "      <td>-0.900927</td>\n",
       "      <td>-0.020383</td>\n",
       "      <td>-0.127112</td>\n",
       "      <td>-0.244948</td>\n",
       "      <td>0.029846</td>\n",
       "      <td>-0.148651</td>\n",
       "      <td>0.180999</td>\n",
       "      <td>...</td>\n",
       "      <td>-0.636993</td>\n",
       "      <td>-0.031271</td>\n",
       "      <td>-0.578347</td>\n",
       "      <td>0.401251</td>\n",
       "      <td>-0.024529</td>\n",
       "      <td>0.343043</td>\n",
       "      <td>-0.228350</td>\n",
       "      <td>-0.756843</td>\n",
       "      <td>0.114712</td>\n",
       "      <td>-0.143414</td>\n",
       "    </tr>\n",
       "    <tr>\n",
       "      <th>4</th>\n",
       "      <td>-0.162550</td>\n",
       "      <td>-0.152729</td>\n",
       "      <td>0.030060</td>\n",
       "      <td>-0.583452</td>\n",
       "      <td>-0.018364</td>\n",
       "      <td>-0.099837</td>\n",
       "      <td>-0.271757</td>\n",
       "      <td>0.061340</td>\n",
       "      <td>-0.152773</td>\n",
       "      <td>0.005906</td>\n",
       "      <td>...</td>\n",
       "      <td>0.722120</td>\n",
       "      <td>0.052967</td>\n",
       "      <td>-0.994023</td>\n",
       "      <td>1.375866</td>\n",
       "      <td>-0.258913</td>\n",
       "      <td>0.883789</td>\n",
       "      <td>-0.266259</td>\n",
       "      <td>-0.692870</td>\n",
       "      <td>0.070066</td>\n",
       "      <td>-0.018970</td>\n",
       "    </tr>\n",
       "  </tbody>\n",
       "</table>\n",
       "<p>5 rows × 64 columns</p>\n",
       "</div>"
      ],
      "text/plain": [
       "   PC1_First_EEG  PC2_First_EEG  PC3_First_EEG  PC4_First_EEG  PC5_First_EEG  \\\n",
       "0      -0.150877       0.037350      -0.007535      -0.196188       0.002084   \n",
       "1      -0.145712       0.397938       0.040181      -0.955734      -0.033457   \n",
       "2      -0.177913      -0.560894      -0.017967       0.213555      -0.011478   \n",
       "3      -0.150104       0.191066       0.042441      -0.900927      -0.020383   \n",
       "4      -0.162550      -0.152729       0.030060      -0.583452      -0.018364   \n",
       "\n",
       "   PC6_First_EEG  PC7_First_EEG  PC8_First_EEG  PC1_Second_EEG  \\\n",
       "0      -0.069064      -0.067898      -0.025034       -0.155442   \n",
       "1      -0.114857      -0.124686      -0.011585       -0.103413   \n",
       "2      -0.030643      -0.183411       0.032818       -0.179845   \n",
       "3      -0.127112      -0.244948       0.029846       -0.148651   \n",
       "4      -0.099837      -0.271757       0.061340       -0.152773   \n",
       "\n",
       "   PC2_Second_EEG  ...  PC7_Y_axis  PC8_Y_axis  PC1_Z_axis  PC2_Z_axis  \\\n",
       "0       -0.067549  ...   -0.139054    0.066782   -1.007558    1.325004   \n",
       "1        1.358216  ...   -0.508179   -0.219195   -0.526796   -0.502025   \n",
       "2       -0.546443  ...    0.024068   -0.026915   -0.685713   -0.177671   \n",
       "3        0.180999  ...   -0.636993   -0.031271   -0.578347    0.401251   \n",
       "4        0.005906  ...    0.722120    0.052967   -0.994023    1.375866   \n",
       "\n",
       "   PC3_Z_axis  PC4_Z_axis  PC5_Z_axis  PC6_Z_axis  PC7_Z_axis  PC8_Z_axis  \n",
       "0   -0.017092   -0.185793   -1.003692    0.307749    0.558632   -0.032831  \n",
       "1   -0.079240    0.141162    1.052278   -0.348170   -0.508631   -0.080104  \n",
       "2   -0.014895   -0.577356    0.709552    0.652135   -0.473790    0.128641  \n",
       "3   -0.024529    0.343043   -0.228350   -0.756843    0.114712   -0.143414  \n",
       "4   -0.258913    0.883789   -0.266259   -0.692870    0.070066   -0.018970  \n",
       "\n",
       "[5 rows x 64 columns]"
      ]
     },
     "execution_count": 11,
     "metadata": {},
     "output_type": "execute_result"
    }
   ],
   "source": [
    "X_train_pca.head()"
   ]
  },
  {
   "cell_type": "code",
   "execution_count": 12,
   "metadata": {},
   "outputs": [
    {
     "data": {
      "image/png": "[encoded data removed]",
      "text/plain": [
       "<Figure size 2000x1000 with 8 Axes>"
      ]
     },
     "metadata": {},
     "output_type": "display_data"
    }
   ],
   "source": [
    "fig, ax = plt.subplots(2, 4, figsize=(20, 10))\n",
    "\n",
    "i = 0\n",
    "for key, var in variance_ratio.items():\n",
    "    ax[i//4, i%4].bar(range(1, len(var) + 1), var, alpha=0.75)  #, ax=ax[i//4, i%4])\n",
    "    ax[i//4, i%4].hlines(y=0.95, xmin=0., xmax=9., colors=\"black\", linestyles='dashed', label=\"95%\")\n",
    "    # plt.step(range(1, len(explained_variance_ratio) + 1), np.cumsum(explained_variance_ratio), where='mid', label='Cumulative Explained Variance')\n",
    "    ax[i//4, i%4].set_xlabel('Principal Component Number')\n",
    "    ax[i//4, i%4].set_ylabel('Explained Variance Ratio')\n",
    "    ax[i//4, i%4].set_title(key)\n",
    "    ax[i//4, i%4].legend()\n",
    "\n",
    "    i += 1 \n",
    "\n",
    "plt.show()"
   ]
  },
  {
   "cell_type": "markdown",
   "metadata": {},
   "source": [
    "### PCA on the whole dataset"
   ]
  },
  {
   "cell_type": "code",
   "execution_count": 13,
   "metadata": {},
   "outputs": [],
   "source": [
    "# define parameters of the algo\n",
    "n_components = 38\n",
    "pca_all = PCA(n_components=n_components)"
   ]
  },
  {
   "cell_type": "code",
   "execution_count": 14,
   "metadata": {},
   "outputs": [],
   "source": [
    "X_train_pca_all = pca_all.fit_transform(X_train_scaled)\n",
    "X_test_pca_all = pca_all.transform(X_test_scaled)"
   ]
  },
  {
   "cell_type": "code",
   "execution_count": 15,
   "metadata": {},
   "outputs": [
    {
     "data": {
      "text/plain": [
       "<matplotlib.legend.Legend at 0x1cd59dc22e0>"
      ]
     },
     "execution_count": 15,
     "metadata": {},
     "output_type": "execute_result"
    },
    {
     "data": {
      "image/png": "[encoded data removed]",
      "text/plain": [
       "<Figure size 640x480 with 1 Axes>"
      ]
     },
     "metadata": {},
     "output_type": "display_data"
    }
   ],
   "source": [
    "var = np.cumsum(pca_all.explained_variance_ratio_)\n",
    "\n",
    "plt.bar(range(1, len(var) + 1), var, alpha=0.75)  \n",
    "plt.hlines(y=0.95, xmin=0., xmax=n_components, colors=\"black\", linestyles='dashed', label=\"95%\")\n",
    "plt.xlabel('Principal Component Number')\n",
    "plt.ylabel('Explained Variance Ratio')\n",
    "plt.title(key)\n",
    "plt.legend()"
   ]
  },
  {
   "cell_type": "markdown",
   "metadata": {},
   "source": [
    "### POC of a model without PCA:"
   ]
  },
  {
   "cell_type": "markdown",
   "metadata": {},
   "source": [
    "POC of a model based on features selected by xgboost."
   ]
  },
  {
   "cell_type": "code",
   "execution_count": 16,
   "metadata": {},
   "outputs": [
    {
     "data": {
      "text/plain": [
       "array([0.65607111, 0.63931557, 0.65059768])"
      ]
     },
     "execution_count": 16,
     "metadata": {},
     "output_type": "execute_result"
    }
   ],
   "source": [
    "xgb_classifier = xgb.XGBClassifier(\n",
    "    objective='multi:softmax',  # For multiclass classification\n",
    "    num_class=len(set(y)),  # Number of classes\n",
    "    random_state=42\n",
    ")\n",
    "cross_val_score(xgb_classifier, \n",
    "                X_train_scaled, \n",
    "                y_train, \n",
    "                cv=3, scoring='f1_macro')"
   ]
  },
  {
   "cell_type": "code",
   "execution_count": 17,
   "metadata": {},
   "outputs": [],
   "source": [
    "baseline = xgb_classifier = xgb.XGBClassifier(\n",
    "    objective='multi:softmax',  # For multiclass classification\n",
    "    num_class=len(set(y)),  # Number of classes\n",
    "    random_state=42\n",
    ")\n",
    "\n",
    "baseline.fit(X_train_scaled, y_train)\n",
    "y_pred = baseline.predict(X_test_scaled)"
   ]
  },
  {
   "cell_type": "code",
   "execution_count": 27,
   "metadata": {},
   "outputs": [
    {
     "name": "stdout",
     "output_type": "stream",
     "text": [
      "F1-score: 0.6661317267490411\n",
      "Accuracy: 0.8170040485829959\n"
     ]
    }
   ],
   "source": [
    "f1 = f1_score(y_pred, y_test, average='macro')\n",
    "accuracy = accuracy_score(y_pred, y_test)\n",
    "\n",
    "print(f\"F1-score: {f1}\")\n",
    "print(f\"Accuracy: {accuracy}\")"
   ]
  },
  {
   "cell_type": "markdown",
   "metadata": {},
   "source": [
    "### POC of a model using PCA on each categroy of signals"
   ]
  },
  {
   "cell_type": "code",
   "execution_count": 19,
   "metadata": {},
   "outputs": [
    {
     "data": {
      "text/html": [
       "<style>#sk-container-id-1 {color: black;}#sk-container-id-1 pre{padding: 0;}#sk-container-id-1 div.sk-toggleable {background-color: white;}#sk-container-id-1 label.sk-toggleable__label {cursor: pointer;display: block;width: 100%;margin-bottom: 0;padding: 0.3em;box-sizing: border-box;text-align: center;}#sk-container-id-1 label.sk-toggleable__label-arrow:before {content: \"▸\";float: left;margin-right: 0.25em;color: #696969;}#sk-container-id-1 label.sk-toggleable__label-arrow:hover:before {color: black;}#sk-container-id-1 div.sk-estimator:hover label.sk-toggleable__label-arrow:before {color: black;}#sk-container-id-1 div.sk-toggleable__content {max-height: 0;max-width: 0;overflow: hidden;text-align: left;background-color: #f0f8ff;}#sk-container-id-1 div.sk-toggleable__content pre {margin: 0.2em;color: black;border-radius: 0.25em;background-color: #f0f8ff;}#sk-container-id-1 input.sk-toggleable__control:checked~div.sk-toggleable__content {max-height: 200px;max-width: 100%;overflow: auto;}#sk-container-id-1 input.sk-toggleable__control:checked~label.sk-toggleable__label-arrow:before {content: \"▾\";}#sk-container-id-1 div.sk-estimator input.sk-toggleable__control:checked~label.sk-toggleable__label {background-color: #d4ebff;}#sk-container-id-1 div.sk-label input.sk-toggleable__control:checked~label.sk-toggleable__label {background-color: #d4ebff;}#sk-container-id-1 input.sk-hidden--visually {border: 0;clip: rect(1px 1px 1px 1px);clip: rect(1px, 1px, 1px, 1px);height: 1px;margin: -1px;overflow: hidden;padding: 0;position: absolute;width: 1px;}#sk-container-id-1 div.sk-estimator {font-family: monospace;background-color: #f0f8ff;border: 1px dotted black;border-radius: 0.25em;box-sizing: border-box;margin-bottom: 0.5em;}#sk-container-id-1 div.sk-estimator:hover {background-color: #d4ebff;}#sk-container-id-1 div.sk-parallel-item::after {content: \"\";width: 100%;border-bottom: 1px solid gray;flex-grow: 1;}#sk-container-id-1 div.sk-label:hover label.sk-toggleable__label {background-color: #d4ebff;}#sk-container-id-1 div.sk-serial::before {content: \"\";position: absolute;border-left: 1px solid gray;box-sizing: border-box;top: 0;bottom: 0;left: 50%;z-index: 0;}#sk-container-id-1 div.sk-serial {display: flex;flex-direction: column;align-items: center;background-color: white;padding-right: 0.2em;padding-left: 0.2em;position: relative;}#sk-container-id-1 div.sk-item {position: relative;z-index: 1;}#sk-container-id-1 div.sk-parallel {display: flex;align-items: stretch;justify-content: center;background-color: white;position: relative;}#sk-container-id-1 div.sk-item::before, #sk-container-id-1 div.sk-parallel-item::before {content: \"\";position: absolute;border-left: 1px solid gray;box-sizing: border-box;top: 0;bottom: 0;left: 50%;z-index: -1;}#sk-container-id-1 div.sk-parallel-item {display: flex;flex-direction: column;z-index: 1;position: relative;background-color: white;}#sk-container-id-1 div.sk-parallel-item:first-child::after {align-self: flex-end;width: 50%;}#sk-container-id-1 div.sk-parallel-item:last-child::after {align-self: flex-start;width: 50%;}#sk-container-id-1 div.sk-parallel-item:only-child::after {width: 0;}#sk-container-id-1 div.sk-dashed-wrapped {border: 1px dashed gray;margin: 0 0.4em 0.5em 0.4em;box-sizing: border-box;padding-bottom: 0.4em;background-color: white;}#sk-container-id-1 div.sk-label label {font-family: monospace;font-weight: bold;display: inline-block;line-height: 1.2em;}#sk-container-id-1 div.sk-label-container {text-align: center;}#sk-container-id-1 div.sk-container {/* jupyter's `normalize.less` sets `[hidden] { display: none; }` but bootstrap.min.css set `[hidden] { display: none !important; }` so we also need the `!important` here to be able to override the default hidden behavior on the sphinx rendered scikit-learn.org. See: https://github.com/scikit-learn/scikit-learn/issues/21755 */display: inline-block !important;position: relative;}#sk-container-id-1 div.sk-text-repr-fallback {display: none;}</style><div id=\"sk-container-id-1\" class=\"sk-top-container\"><div class=\"sk-text-repr-fallback\"><pre>RandomForestClassifier()</pre><b>In a Jupyter environment, please rerun this cell to show the HTML representation or trust the notebook. <br />On GitHub, the HTML representation is unable to render, please try loading this page with nbviewer.org.</b></div><div class=\"sk-container\" hidden><div class=\"sk-item\"><div class=\"sk-estimator sk-toggleable\"><input class=\"sk-toggleable__control sk-hidden--visually\" id=\"sk-estimator-id-1\" type=\"checkbox\" checked><label for=\"sk-estimator-id-1\" class=\"sk-toggleable__label sk-toggleable__label-arrow\">RandomForestClassifier</label><div class=\"sk-toggleable__content\"><pre>RandomForestClassifier()</pre></div></div></div></div></div>"
      ],
      "text/plain": [
       "RandomForestClassifier()"
      ]
     },
     "execution_count": 19,
     "metadata": {},
     "output_type": "execute_result"
    }
   ],
   "source": [
    "model_pca = RandomForestClassifier()\n",
    "# cross_val_score(model, X_train_scaled, y_train, cv=3, scoring='f1_macro')\n",
    "model_pca.fit(X_train_pca, y_train)"
   ]
  },
  {
   "cell_type": "code",
   "execution_count": 20,
   "metadata": {},
   "outputs": [
    {
     "data": {
      "image/png": "[encoded data removed]",
      "text/plain": [
       "<Figure size 640x480 with 1 Axes>"
      ]
     },
     "metadata": {},
     "output_type": "display_data"
    }
   ],
   "source": [
    "# Extract coefficients and identify important features\n",
    "coefficients = model_pca.feature_importances_\n",
    "selected_features = pd.DataFrame(coefficients, columns=['Importance'])\n",
    "selected_features['features'] = X_train_pca.columns\n",
    "\n",
    "# Display selected features\n",
    "plot = selected_features.sort_values(by=\"Importance\", ascending=False).iloc[:20]\n",
    "plt.bar(list(plot.features), list(plot.Importance))\n",
    "plt.xticks(rotation=90)\n",
    "plt.show()"
   ]
  },
  {
   "cell_type": "code",
   "execution_count": 22,
   "metadata": {},
   "outputs": [
    {
     "data": {
      "text/plain": [
       "array([0.53658484, 0.5471056 , 0.5518723 ])"
      ]
     },
     "execution_count": 22,
     "metadata": {},
     "output_type": "execute_result"
    }
   ],
   "source": [
    "xgb_classifier_pca = xgb.XGBClassifier(\n",
    "    objective='multi:softmax',  # For multiclass classification\n",
    "    num_class=len(set(y)),  # Number of classes\n",
    "    random_state=42\n",
    ")\n",
    "cross_val_score(xgb_classifier_pca, \n",
    "                X_train_pca, \n",
    "                y_train, \n",
    "                cv=3, scoring='f1_macro')"
   ]
  },
  {
   "cell_type": "markdown",
   "metadata": {},
   "source": [
    "Obviously, results are worse than the baseline. In fact, each feature in the baseline has a little importance. Applying PCA to each signal and oosing 5% of the information on each signal may be sufficient to lose so much information. "
   ]
  },
  {
   "cell_type": "markdown",
   "metadata": {},
   "source": [
    "### PCA on all features"
   ]
  },
  {
   "cell_type": "code",
   "execution_count": 23,
   "metadata": {},
   "outputs": [
    {
     "data": {
      "text/plain": [
       "array([0.49068409, 0.47026474, 0.49294966])"
      ]
     },
     "execution_count": 23,
     "metadata": {},
     "output_type": "execute_result"
    }
   ],
   "source": [
    "xgb_classifier_pca_all = xgb.XGBClassifier(\n",
    "    objective='multi:softmax',  # For multiclass classification\n",
    "    num_class=len(set(y)),  # Number of classes\n",
    "    random_state=42\n",
    ")\n",
    "cross_val_score(xgb_classifier_pca_all, \n",
    "                X_train_pca_all, \n",
    "                y_train, \n",
    "                cv=3, scoring='f1_macro')"
   ]
  },
  {
   "cell_type": "markdown",
   "metadata": {},
   "source": [
    "Again, results are worse. As a conclusion, as PCA treats only high variance without taking into account the target, the algo may not be suitable for the rest. Thus, PCA might not be used for the rest of the experience. "
   ]
  },
  {
   "cell_type": "markdown",
   "metadata": {},
   "source": [
    "### General conclusion"
   ]
  },
  {
   "cell_type": "markdown",
   "metadata": {},
   "source": [
    "A POC has been designed. Two main points have to be kept in mind for the rest of the study. \n",
    "\n",
    "Firstly, PCA is not a good solution for feature dimension space reduction. As it doesn't take into account the response variable, it gives poor results in our problem. \n",
    "\n",
    "Secondly, all our experiments for feature selection or feature space dimension reduction have given worse results. We might consider deep learning to extract information from our large set of features. "
   ]
  }
 ],
 "metadata": {
  "kernelspec": {
   "display_name": "ml_b",
   "language": "python",
   "name": "python3"
  },
  "language_info": {
   "codemirror_mode": {
    "name": "ipython",
    "version": 3
   },
   "file_extension": ".py",
   "mimetype": "text/x-python",
   "name": "python",
   "nbconvert_exporter": "python",
   "pygments_lexer": "ipython3",
   "version": "3.9.16"
  }
 },
 "nbformat": 4,
 "nbformat_minor": 2
}
