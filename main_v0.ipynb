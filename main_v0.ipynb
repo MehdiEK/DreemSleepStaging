{
 "cells": [
  {
   "cell_type": "code",
   "execution_count": 35,
   "metadata": {},
   "outputs": [],
   "source": [
    "import pandas as pd \n",
    "import numpy as np \n",
    "import os \n",
    "import matplotlib.pyplot as plt \n",
    "\n",
    "from sklearn.preprocessing import StandardScaler\n",
    "from preprocessing.features_engineering import BasicFeaturesCreation"
   ]
  },
  {
   "cell_type": "markdown",
   "metadata": {},
   "source": [
    "Get names of files containing raw data."
   ]
  },
  {
   "cell_type": "code",
   "execution_count": 36,
   "metadata": {},
   "outputs": [],
   "source": [
    "# nb of files to open \n",
    "nb_files = 7"
   ]
  },
  {
   "cell_type": "code",
   "execution_count": 37,
   "metadata": {},
   "outputs": [],
   "source": [
    "cwd = os.getcwd()\n",
    "files_dir = os.path.join(cwd, \"data\", \"training_records\")\n",
    "files = np.arange(nb_files)"
   ]
  },
  {
   "cell_type": "markdown",
   "metadata": {},
   "source": [
    "Preprocess our data."
   ]
  },
  {
   "cell_type": "code",
   "execution_count": 38,
   "metadata": {},
   "outputs": [],
   "source": [
    "# define category \n",
    "category = {\n",
    "        \"First_EEG\": (1, 7501, 250), \n",
    "        \"Second_EEG\": (7501, 15001, 250), \n",
    "        \"Third_EEG\": (15001, 22501, 250), \n",
    "        \"Fourth_EEG\": (22501, 30001, 250), \n",
    "        \"Fifth_EEG\": (30001, 37501, 250), \n",
    "        \"X_axis\": (37501, 39001, 50), \n",
    "        \"Y_axis\": (39001, 40501, 50), \n",
    "        \"Z_axis\": (40501, 42001, 50) \n",
    "    }"
   ]
  },
  {
   "cell_type": "code",
   "execution_count": 39,
   "metadata": {},
   "outputs": [
    {
     "name": "stderr",
     "output_type": "stream",
     "text": [
      "C:\\Users\\elkan\\AppData\\Local\\Temp\\ipykernel_9864\\187104256.py:24: PerformanceWarning: DataFrame is highly fragmented.  This is usually the result of calling `frame.insert` many times, which has poor performance.  Consider joining all columns at once using pd.concat(axis=1) instead. To get a de-fragmented frame, use `newframe = frame.copy()`\n",
      "  df_transformed['identifier'] = df_transformed.index + 10000*file\n",
      "C:\\Users\\elkan\\AppData\\Local\\Temp\\ipykernel_9864\\187104256.py:24: PerformanceWarning: DataFrame is highly fragmented.  This is usually the result of calling `frame.insert` many times, which has poor performance.  Consider joining all columns at once using pd.concat(axis=1) instead. To get a de-fragmented frame, use `newframe = frame.copy()`\n",
      "  df_transformed['identifier'] = df_transformed.index + 10000*file\n",
      "C:\\Users\\elkan\\AppData\\Local\\Temp\\ipykernel_9864\\187104256.py:24: PerformanceWarning: DataFrame is highly fragmented.  This is usually the result of calling `frame.insert` many times, which has poor performance.  Consider joining all columns at once using pd.concat(axis=1) instead. To get a de-fragmented frame, use `newframe = frame.copy()`\n",
      "  df_transformed['identifier'] = df_transformed.index + 10000*file\n",
      "C:\\Users\\elkan\\AppData\\Local\\Temp\\ipykernel_9864\\187104256.py:24: PerformanceWarning: DataFrame is highly fragmented.  This is usually the result of calling `frame.insert` many times, which has poor performance.  Consider joining all columns at once using pd.concat(axis=1) instead. To get a de-fragmented frame, use `newframe = frame.copy()`\n",
      "  df_transformed['identifier'] = df_transformed.index + 10000*file\n",
      "C:\\Users\\elkan\\AppData\\Local\\Temp\\ipykernel_9864\\187104256.py:24: PerformanceWarning: DataFrame is highly fragmented.  This is usually the result of calling `frame.insert` many times, which has poor performance.  Consider joining all columns at once using pd.concat(axis=1) instead. To get a de-fragmented frame, use `newframe = frame.copy()`\n",
      "  df_transformed['identifier'] = df_transformed.index + 10000*file\n",
      "C:\\Users\\elkan\\AppData\\Local\\Temp\\ipykernel_9864\\187104256.py:24: PerformanceWarning: DataFrame is highly fragmented.  This is usually the result of calling `frame.insert` many times, which has poor performance.  Consider joining all columns at once using pd.concat(axis=1) instead. To get a de-fragmented frame, use `newframe = frame.copy()`\n",
      "  df_transformed['identifier'] = df_transformed.index + 10000*file\n",
      "C:\\Users\\elkan\\AppData\\Local\\Temp\\ipykernel_9864\\187104256.py:24: PerformanceWarning: DataFrame is highly fragmented.  This is usually the result of calling `frame.insert` many times, which has poor performance.  Consider joining all columns at once using pd.concat(axis=1) instead. To get a de-fragmented frame, use `newframe = frame.copy()`\n",
      "  df_transformed['identifier'] = df_transformed.index + 10000*file\n"
     ]
    }
   ],
   "source": [
    "dataframes = []\n",
    "\n",
    "for file in files:\n",
    "\n",
    "    # load data\n",
    "    file_path = os.path.join(files_dir, \"dreem_\" + str(file) + \".npy\")\n",
    "    data = np.load(file_path)\n",
    "    df = pd.DataFrame(data)\n",
    "    df.set_index(0, inplace=True)\n",
    "\n",
    "    # preprocess data per category \n",
    "    df_per_category = []  # initialization \n",
    "    for cat in category.keys():\n",
    "\n",
    "        # get columns in cateogries\n",
    "        min_, max_, sampling_rate = category.get(cat)\n",
    "\n",
    "        # define transformer\n",
    "        transformer = BasicFeaturesCreation(sampling_rate=sampling_rate, \n",
    "                                            name=cat)\n",
    "        df_per_category.append(transformer.transform(df[np.arange(min_, max_)]))\n",
    "\n",
    "    df_transformed = pd.concat(df_per_category, axis=1)\n",
    "    df_transformed['identifier'] = df_transformed.index + 10000*file\n",
    "    dataframes.append(df_transformed)"
   ]
  },
  {
   "cell_type": "code",
   "execution_count": 40,
   "metadata": {},
   "outputs": [],
   "source": [
    "df_prepared = pd.concat(dataframes, ignore_index=True)"
   ]
  },
  {
   "cell_type": "code",
   "execution_count": 41,
   "metadata": {},
   "outputs": [
    {
     "data": {
      "text/html": [
       "<div>\n",
       "<style scoped>\n",
       "    .dataframe tbody tr th:only-of-type {\n",
       "        vertical-align: middle;\n",
       "    }\n",
       "\n",
       "    .dataframe tbody tr th {\n",
       "        vertical-align: top;\n",
       "    }\n",
       "\n",
       "    .dataframe thead th {\n",
       "        text-align: right;\n",
       "    }\n",
       "</style>\n",
       "<table border=\"1\" class=\"dataframe\">\n",
       "  <thead>\n",
       "    <tr style=\"text-align: right;\">\n",
       "      <th></th>\n",
       "      <th>record</th>\n",
       "      <th>index</th>\n",
       "      <th>target</th>\n",
       "    </tr>\n",
       "    <tr>\n",
       "      <th>identifier</th>\n",
       "      <th></th>\n",
       "      <th></th>\n",
       "      <th></th>\n",
       "    </tr>\n",
       "  </thead>\n",
       "  <tbody>\n",
       "    <tr>\n",
       "      <th>0</th>\n",
       "      <td>0</td>\n",
       "      <td>0</td>\n",
       "      <td>0</td>\n",
       "    </tr>\n",
       "    <tr>\n",
       "      <th>1</th>\n",
       "      <td>0</td>\n",
       "      <td>1</td>\n",
       "      <td>0</td>\n",
       "    </tr>\n",
       "    <tr>\n",
       "      <th>2</th>\n",
       "      <td>0</td>\n",
       "      <td>2</td>\n",
       "      <td>0</td>\n",
       "    </tr>\n",
       "    <tr>\n",
       "      <th>3</th>\n",
       "      <td>0</td>\n",
       "      <td>3</td>\n",
       "      <td>0</td>\n",
       "    </tr>\n",
       "    <tr>\n",
       "      <th>4</th>\n",
       "      <td>0</td>\n",
       "      <td>4</td>\n",
       "      <td>0</td>\n",
       "    </tr>\n",
       "  </tbody>\n",
       "</table>\n",
       "</div>"
      ],
      "text/plain": [
       "            record  index  target\n",
       "identifier                       \n",
       "0                0      0       0\n",
       "1                0      1       0\n",
       "2                0      2       0\n",
       "3                0      3       0\n",
       "4                0      4       0"
      ]
     },
     "execution_count": 41,
     "metadata": {},
     "output_type": "execute_result"
    }
   ],
   "source": [
    "targets = pd.read_csv(\"./data/targets_train.csv\", index_col=\"identifier\")\n",
    "targets.head()"
   ]
  },
  {
   "cell_type": "code",
   "execution_count": 42,
   "metadata": {},
   "outputs": [
    {
     "name": "stdout",
     "output_type": "stream",
     "text": [
      "<class 'pandas.core.frame.DataFrame'>\n",
      "Float64Index: 6173 entries, 0.0 to 60911.0\n",
      "Columns: 169 entries, Max_freq_First_EEG to target\n",
      "dtypes: float64(168), int64(1)\n",
      "memory usage: 8.0 MB\n"
     ]
    }
   ],
   "source": [
    "df_final = df_prepared.set_index(\"identifier\").join(targets, on=\"identifier\", how=\"inner\")\n",
    "df_final.drop(columns=[\"record\", \"index\"], inplace=True)\n",
    "df_final.info()"
   ]
  },
  {
   "cell_type": "code",
   "execution_count": 43,
   "metadata": {},
   "outputs": [],
   "source": [
    "df_final.to_csv(\"./data/prepared/prepared_basic.csv\")"
   ]
  }
 ],
 "metadata": {
  "kernelspec": {
   "display_name": "ml_b",
   "language": "python",
   "name": "python3"
  },
  "language_info": {
   "codemirror_mode": {
    "name": "ipython",
    "version": 3
   },
   "file_extension": ".py",
   "mimetype": "text/x-python",
   "name": "python",
   "nbconvert_exporter": "python",
   "pygments_lexer": "ipython3",
   "version": "3.9.16"
  }
 },
 "nbformat": 4,
 "nbformat_minor": 2
}
